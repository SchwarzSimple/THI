{
 "cells": [
  {
   "cell_type": "code",
   "execution_count": 2,
   "id": "e4203ae1",
   "metadata": {},
   "outputs": [
    {
     "data": {
      "text/plain": [
       "ResNet(\n",
       "  (conv1): Conv2d(3, 64, kernel_size=(7, 7), stride=(2, 2), padding=(3, 3), bias=False)\n",
       "  (bn1): BatchNorm2d(64, eps=1e-05, momentum=0.1, affine=True, track_running_stats=True)\n",
       "  (relu): ReLU(inplace=True)\n",
       "  (maxpool): MaxPool2d(kernel_size=3, stride=2, padding=1, dilation=1, ceil_mode=False)\n",
       "  (layer1): Sequential(\n",
       "    (0): BasicBlock(\n",
       "      (conv1): Conv2d(64, 64, kernel_size=(3, 3), stride=(1, 1), padding=(1, 1), bias=False)\n",
       "      (bn1): BatchNorm2d(64, eps=1e-05, momentum=0.1, affine=True, track_running_stats=True)\n",
       "      (relu): ReLU(inplace=True)\n",
       "      (conv2): Conv2d(64, 64, kernel_size=(3, 3), stride=(1, 1), padding=(1, 1), bias=False)\n",
       "      (bn2): BatchNorm2d(64, eps=1e-05, momentum=0.1, affine=True, track_running_stats=True)\n",
       "    )\n",
       "    (1): BasicBlock(\n",
       "      (conv1): Conv2d(64, 64, kernel_size=(3, 3), stride=(1, 1), padding=(1, 1), bias=False)\n",
       "      (bn1): BatchNorm2d(64, eps=1e-05, momentum=0.1, affine=True, track_running_stats=True)\n",
       "      (relu): ReLU(inplace=True)\n",
       "      (conv2): Conv2d(64, 64, kernel_size=(3, 3), stride=(1, 1), padding=(1, 1), bias=False)\n",
       "      (bn2): BatchNorm2d(64, eps=1e-05, momentum=0.1, affine=True, track_running_stats=True)\n",
       "    )\n",
       "  )\n",
       "  (layer2): Sequential(\n",
       "    (0): BasicBlock(\n",
       "      (conv1): Conv2d(64, 128, kernel_size=(3, 3), stride=(2, 2), padding=(1, 1), bias=False)\n",
       "      (bn1): BatchNorm2d(128, eps=1e-05, momentum=0.1, affine=True, track_running_stats=True)\n",
       "      (relu): ReLU(inplace=True)\n",
       "      (conv2): Conv2d(128, 128, kernel_size=(3, 3), stride=(1, 1), padding=(1, 1), bias=False)\n",
       "      (bn2): BatchNorm2d(128, eps=1e-05, momentum=0.1, affine=True, track_running_stats=True)\n",
       "      (downsample): Sequential(\n",
       "        (0): Conv2d(64, 128, kernel_size=(1, 1), stride=(2, 2), bias=False)\n",
       "        (1): BatchNorm2d(128, eps=1e-05, momentum=0.1, affine=True, track_running_stats=True)\n",
       "      )\n",
       "    )\n",
       "    (1): BasicBlock(\n",
       "      (conv1): Conv2d(128, 128, kernel_size=(3, 3), stride=(1, 1), padding=(1, 1), bias=False)\n",
       "      (bn1): BatchNorm2d(128, eps=1e-05, momentum=0.1, affine=True, track_running_stats=True)\n",
       "      (relu): ReLU(inplace=True)\n",
       "      (conv2): Conv2d(128, 128, kernel_size=(3, 3), stride=(1, 1), padding=(1, 1), bias=False)\n",
       "      (bn2): BatchNorm2d(128, eps=1e-05, momentum=0.1, affine=True, track_running_stats=True)\n",
       "    )\n",
       "  )\n",
       "  (layer3): Sequential(\n",
       "    (0): BasicBlock(\n",
       "      (conv1): Conv2d(128, 256, kernel_size=(3, 3), stride=(2, 2), padding=(1, 1), bias=False)\n",
       "      (bn1): BatchNorm2d(256, eps=1e-05, momentum=0.1, affine=True, track_running_stats=True)\n",
       "      (relu): ReLU(inplace=True)\n",
       "      (conv2): Conv2d(256, 256, kernel_size=(3, 3), stride=(1, 1), padding=(1, 1), bias=False)\n",
       "      (bn2): BatchNorm2d(256, eps=1e-05, momentum=0.1, affine=True, track_running_stats=True)\n",
       "      (downsample): Sequential(\n",
       "        (0): Conv2d(128, 256, kernel_size=(1, 1), stride=(2, 2), bias=False)\n",
       "        (1): BatchNorm2d(256, eps=1e-05, momentum=0.1, affine=True, track_running_stats=True)\n",
       "      )\n",
       "    )\n",
       "    (1): BasicBlock(\n",
       "      (conv1): Conv2d(256, 256, kernel_size=(3, 3), stride=(1, 1), padding=(1, 1), bias=False)\n",
       "      (bn1): BatchNorm2d(256, eps=1e-05, momentum=0.1, affine=True, track_running_stats=True)\n",
       "      (relu): ReLU(inplace=True)\n",
       "      (conv2): Conv2d(256, 256, kernel_size=(3, 3), stride=(1, 1), padding=(1, 1), bias=False)\n",
       "      (bn2): BatchNorm2d(256, eps=1e-05, momentum=0.1, affine=True, track_running_stats=True)\n",
       "    )\n",
       "  )\n",
       "  (layer4): Sequential(\n",
       "    (0): BasicBlock(\n",
       "      (conv1): Conv2d(256, 512, kernel_size=(3, 3), stride=(2, 2), padding=(1, 1), bias=False)\n",
       "      (bn1): BatchNorm2d(512, eps=1e-05, momentum=0.1, affine=True, track_running_stats=True)\n",
       "      (relu): ReLU(inplace=True)\n",
       "      (conv2): Conv2d(512, 512, kernel_size=(3, 3), stride=(1, 1), padding=(1, 1), bias=False)\n",
       "      (bn2): BatchNorm2d(512, eps=1e-05, momentum=0.1, affine=True, track_running_stats=True)\n",
       "      (downsample): Sequential(\n",
       "        (0): Conv2d(256, 512, kernel_size=(1, 1), stride=(2, 2), bias=False)\n",
       "        (1): BatchNorm2d(512, eps=1e-05, momentum=0.1, affine=True, track_running_stats=True)\n",
       "      )\n",
       "    )\n",
       "    (1): BasicBlock(\n",
       "      (conv1): Conv2d(512, 512, kernel_size=(3, 3), stride=(1, 1), padding=(1, 1), bias=False)\n",
       "      (bn1): BatchNorm2d(512, eps=1e-05, momentum=0.1, affine=True, track_running_stats=True)\n",
       "      (relu): ReLU(inplace=True)\n",
       "      (conv2): Conv2d(512, 512, kernel_size=(3, 3), stride=(1, 1), padding=(1, 1), bias=False)\n",
       "      (bn2): BatchNorm2d(512, eps=1e-05, momentum=0.1, affine=True, track_running_stats=True)\n",
       "    )\n",
       "  )\n",
       "  (avgpool): AdaptiveAvgPool2d(output_size=(1, 1))\n",
       "  (fc): Linear(in_features=512, out_features=4, bias=True)\n",
       ")"
      ]
     },
     "execution_count": 2,
     "metadata": {},
     "output_type": "execute_result"
    }
   ],
   "source": [
    "# Define the classifier\n",
    "cls_model = models.resnet18(pretrained=True)\n",
    "num_classes=4\n",
    "num_ftrs = cls_model.fc.in_features\n",
    "cls_model.fc = nn.Linear(num_ftrs, num_classes)\n",
    "cls_model.to(device)\n",
    "\n",
    "# Load the classifier\n",
    "cls_model.load_state_dict(torch.load('./cls_resnet18.pt'))\n",
    "cls_model.eval()"
   ]
  },
  {
   "cell_type": "code",
   "execution_count": 3,
   "id": "9e6136a3",
   "metadata": {},
   "outputs": [],
   "source": [
    "# Classify test images\n",
    "\n",
    "labels = ['fog', 'night', 'rain', 'sunny']\n",
    "img_path = './dataset/test/test_img/'\n",
    "annot_path = './dataset/test/test_annot/'\n",
    "\n",
    "img_list = os.listdir(img_path)\n",
    "img_list = natsort.natsorted(img_list)\n",
    "\n",
    "fog_folder = './dataset/test/test_img_classified/fog'\n",
    "night_folder = './dataset/test/test_img_classified/night'\n",
    "rain_folder = './dataset/test/test_img_classified/rain'\n",
    "sunny_folder = './dataset/test/test_img_classified/sunny'\n",
    "\n",
    "fog_an_folder = './dataset/test/test_annot_classified/fog'\n",
    "night_an_folder = './dataset/test/test_annot_classified/night'\n",
    "rain_an_folder = './dataset/test/test_annot_classified/rain'\n",
    "sunny_an_folder = './dataset/test/test_annot_classified/sunny'\n",
    "\n",
    "for img in img_list:\n",
    "    img_1 = Image.open(img_path+img).convert(\"RGB\")\n",
    "    img_2 = img_transforms(img_1).to(device)\n",
    "    img_3 = torch.unsqueeze(img_2, 0)\n",
    "    prediction = F.softmax(cls_model(img_3), dim=1)\n",
    "    prediction = prediction.argmax()\n",
    "    prediction_2 = labels[prediction]\n",
    "    \n",
    "    annot = img[:-3]+'xml'\n",
    "    \n",
    "    if prediction_2 == 'fog':\n",
    "        shutil.copy(img_path+img,fog_folder)\n",
    "        shutil.copy(annot_path+annot,fog_an_folder)     \n",
    "    if prediction_2 == 'night':\n",
    "        shutil.copy(img_path+img,night_folder)\n",
    "        shutil.copy(annot_path+annot,night_an_folder)\n",
    "    if prediction_2 == 'rain':\n",
    "        shutil.copy(img_path+img,rain_folder)\n",
    "        shutil.copy(annot_path+annot,rain_an_folder)\n",
    "    if prediction_2 == 'sunny':\n",
    "        shutil.copy(img_path+img,sunny_folder)\n",
    "        shutil.copy(annot_path+annot,sunny_an_folder)"
   ]
  },
  {
   "cell_type": "code",
   "execution_count": 1,
   "id": "d67c9466",
   "metadata": {},
   "outputs": [],
   "source": [
    "%run utils.ipynb"
   ]
  },
  {
   "cell_type": "code",
   "execution_count": 2,
   "id": "e0de4b33",
   "metadata": {},
   "outputs": [],
   "source": [
    "test_dataset_fog = RadarDataset_fog(data_transform, './dataset/test/test_img_classified/fog/')\n",
    "test_data_loader_fog = torch.utils.data.DataLoader(test_dataset_fog, batch_size=1, collate_fn=collate_fn)\n",
    "\n",
    "test_dataset_rain = RadarDataset_rain(data_transform, './dataset/test/test_img_classified/rain/')\n",
    "test_data_loader_rain = torch.utils.data.DataLoader(test_dataset_rain, batch_size=1, collate_fn=collate_fn)\n",
    "\n",
    "test_dataset_sunny = RadarDataset_sunny(data_transform, './dataset/test/test_img_classified/sunny/')\n",
    "test_data_loader_sunny = torch.utils.data.DataLoader(test_dataset_sunny, batch_size=1, collate_fn=collate_fn)\n",
    "\n",
    "test_dataset_night = RadarDataset_night(data_transform, './dataset/test/test_img_classified/night/')\n",
    "test_data_loader_night = torch.utils.data.DataLoader(test_dataset_night, batch_size=1, collate_fn=collate_fn)"
   ]
  },
  {
   "cell_type": "code",
   "execution_count": 3,
   "id": "053aa71d",
   "metadata": {},
   "outputs": [
    {
     "name": "stderr",
     "output_type": "stream",
     "text": [
      "100%|█████████████████████████████████████████| 300/300 [00:29<00:00, 10.13it/s]\n"
     ]
    },
    {
     "name": "stdout",
     "output_type": "stream",
     "text": [
      "Sunny AP : 0.9625382698503762_1\n"
     ]
    },
    {
     "name": "stderr",
     "output_type": "stream",
     "text": [
      "100%|█████████████████████████████████████████████| 7/7 [00:00<00:00, 10.49it/s]\n"
     ]
    },
    {
     "name": "stdout",
     "output_type": "stream",
     "text": [
      "Fog AP : 0.44571430964129366_1\n"
     ]
    },
    {
     "name": "stderr",
     "output_type": "stream",
     "text": [
      "100%|█████████████████████████████████████████| 286/286 [00:28<00:00,  9.95it/s]\n"
     ]
    },
    {
     "name": "stdout",
     "output_type": "stream",
     "text": [
      "Rain AP : 0.9532735066516089_1\n"
     ]
    },
    {
     "name": "stderr",
     "output_type": "stream",
     "text": [
      "100%|█████████████████████████████████████████| 156/156 [00:15<00:00, 10.21it/s]\n"
     ]
    },
    {
     "name": "stdout",
     "output_type": "stream",
     "text": [
      "Night AP : 0.8808861832412731_1\n",
      "Total AP : 0.9487722664906961_1\n"
     ]
    },
    {
     "name": "stderr",
     "output_type": "stream",
     "text": [
      "100%|█████████████████████████████████████████| 300/300 [00:30<00:00,  9.94it/s]\n"
     ]
    },
    {
     "name": "stdout",
     "output_type": "stream",
     "text": [
      "Sunny AP : 0.971801368280083_2\n"
     ]
    },
    {
     "name": "stderr",
     "output_type": "stream",
     "text": [
      "100%|█████████████████████████████████████████████| 7/7 [00:00<00:00, 10.32it/s]\n"
     ]
    },
    {
     "name": "stdout",
     "output_type": "stream",
     "text": [
      "Fog AP : 0.699999988079071_2\n"
     ]
    },
    {
     "name": "stderr",
     "output_type": "stream",
     "text": [
      "100%|█████████████████████████████████████████| 286/286 [00:29<00:00,  9.67it/s]\n"
     ]
    },
    {
     "name": "stdout",
     "output_type": "stream",
     "text": [
      "Rain AP : 0.9637909526318147_2\n"
     ]
    },
    {
     "name": "stderr",
     "output_type": "stream",
     "text": [
      "100%|█████████████████████████████████████████| 156/156 [00:15<00:00, 10.05it/s]\n"
     ]
    },
    {
     "name": "stdout",
     "output_type": "stream",
     "text": [
      "Night AP : 0.9032427977898259_2\n",
      "Total AP : 0.9599399536806317_2\n"
     ]
    },
    {
     "name": "stderr",
     "output_type": "stream",
     "text": [
      "100%|█████████████████████████████████████████| 300/300 [00:30<00:00,  9.77it/s]\n"
     ]
    },
    {
     "name": "stdout",
     "output_type": "stream",
     "text": [
      "Sunny AP : 0.9753953421095538_3\n"
     ]
    },
    {
     "name": "stderr",
     "output_type": "stream",
     "text": [
      "100%|█████████████████████████████████████████████| 7/7 [00:00<00:00, 10.19it/s]\n"
     ]
    },
    {
     "name": "stdout",
     "output_type": "stream",
     "text": [
      "Fog AP : 0.7175000102072957_3\n"
     ]
    },
    {
     "name": "stderr",
     "output_type": "stream",
     "text": [
      "100%|█████████████████████████████████████████| 286/286 [00:29<00:00,  9.56it/s]\n"
     ]
    },
    {
     "name": "stdout",
     "output_type": "stream",
     "text": [
      "Rain AP : 0.9656394418279746_3\n"
     ]
    },
    {
     "name": "stderr",
     "output_type": "stream",
     "text": [
      "100%|█████████████████████████████████████████| 156/156 [00:15<00:00,  9.84it/s]\n"
     ]
    },
    {
     "name": "stdout",
     "output_type": "stream",
     "text": [
      "Night AP : 0.8814388900780816_3\n",
      "Total AP : 0.9600642838993245_3\n"
     ]
    },
    {
     "name": "stderr",
     "output_type": "stream",
     "text": [
      "100%|█████████████████████████████████████████| 300/300 [00:31<00:00,  9.65it/s]\n"
     ]
    },
    {
     "name": "stdout",
     "output_type": "stream",
     "text": [
      "Sunny AP : 0.9771542305544578_4\n"
     ]
    },
    {
     "name": "stderr",
     "output_type": "stream",
     "text": [
      "100%|█████████████████████████████████████████████| 7/7 [00:00<00:00, 10.07it/s]\n"
     ]
    },
    {
     "name": "stdout",
     "output_type": "stream",
     "text": [
      "Fog AP : 0.5714285944189346_4\n"
     ]
    },
    {
     "name": "stderr",
     "output_type": "stream",
     "text": [
      "100%|█████████████████████████████████████████| 286/286 [00:30<00:00,  9.51it/s]\n"
     ]
    },
    {
     "name": "stdout",
     "output_type": "stream",
     "text": [
      "Rain AP : 0.9710378137246458_4\n"
     ]
    },
    {
     "name": "stderr",
     "output_type": "stream",
     "text": [
      "100%|█████████████████████████████████████████| 156/156 [00:15<00:00,  9.84it/s]\n"
     ]
    },
    {
     "name": "stdout",
     "output_type": "stream",
     "text": [
      "Night AP : 0.9226573045215751_4\n",
      "Total AP : 0.9675296555099457_4\n"
     ]
    },
    {
     "name": "stderr",
     "output_type": "stream",
     "text": [
      "100%|█████████████████████████████████████████| 300/300 [00:31<00:00,  9.62it/s]\n"
     ]
    },
    {
     "name": "stdout",
     "output_type": "stream",
     "text": [
      "Sunny AP : 0.9719208718424639_5\n"
     ]
    },
    {
     "name": "stderr",
     "output_type": "stream",
     "text": [
      "100%|█████████████████████████████████████████████| 7/7 [00:00<00:00, 10.09it/s]\n"
     ]
    },
    {
     "name": "stdout",
     "output_type": "stream",
     "text": [
      "Fog AP : 0.699999988079071_5\n"
     ]
    },
    {
     "name": "stderr",
     "output_type": "stream",
     "text": [
      "100%|█████████████████████████████████████████| 286/286 [00:30<00:00,  9.43it/s]\n"
     ]
    },
    {
     "name": "stdout",
     "output_type": "stream",
     "text": [
      "Rain AP : 0.9687505169835227_5\n"
     ]
    },
    {
     "name": "stderr",
     "output_type": "stream",
     "text": [
      "100%|█████████████████████████████████████████| 156/156 [00:15<00:00,  9.78it/s]\n"
     ]
    },
    {
     "name": "stdout",
     "output_type": "stream",
     "text": [
      "Night AP : 0.9144431513077187_5\n",
      "Total AP : 0.9638000250630583_5\n"
     ]
    },
    {
     "name": "stderr",
     "output_type": "stream",
     "text": [
      "100%|█████████████████████████████████████████| 300/300 [00:31<00:00,  9.59it/s]\n"
     ]
    },
    {
     "name": "stdout",
     "output_type": "stream",
     "text": [
      "Sunny AP : 0.9724298824355664_6\n"
     ]
    },
    {
     "name": "stderr",
     "output_type": "stream",
     "text": [
      "100%|█████████████████████████████████████████████| 7/7 [00:00<00:00, 10.05it/s]\n"
     ]
    },
    {
     "name": "stdout",
     "output_type": "stream",
     "text": [
      "Fog AP : 0.699999988079071_6\n"
     ]
    },
    {
     "name": "stderr",
     "output_type": "stream",
     "text": [
      "100%|█████████████████████████████████████████| 286/286 [00:30<00:00,  9.36it/s]\n"
     ]
    },
    {
     "name": "stdout",
     "output_type": "stream",
     "text": [
      "Rain AP : 0.9685105692437936_6\n"
     ]
    },
    {
     "name": "stderr",
     "output_type": "stream",
     "text": [
      "100%|█████████████████████████████████████████| 156/156 [00:16<00:00,  9.64it/s]\n"
     ]
    },
    {
     "name": "stdout",
     "output_type": "stream",
     "text": [
      "Night AP : 0.9149176633135987_6\n",
      "Total AP : 0.9638673842450451_6\n"
     ]
    },
    {
     "name": "stderr",
     "output_type": "stream",
     "text": [
      "100%|█████████████████████████████████████████| 300/300 [00:31<00:00,  9.49it/s]\n"
     ]
    },
    {
     "name": "stdout",
     "output_type": "stream",
     "text": [
      "Sunny AP : 0.9788639992757417_7\n"
     ]
    },
    {
     "name": "stderr",
     "output_type": "stream",
     "text": [
      "100%|█████████████████████████████████████████████| 7/7 [00:00<00:00,  9.95it/s]\n"
     ]
    },
    {
     "name": "stdout",
     "output_type": "stream",
     "text": [
      "Fog AP : 0.699999988079071_7\n"
     ]
    },
    {
     "name": "stderr",
     "output_type": "stream",
     "text": [
      "100%|█████████████████████████████████████████| 286/286 [00:30<00:00,  9.33it/s]\n"
     ]
    },
    {
     "name": "stdout",
     "output_type": "stream",
     "text": [
      "Rain AP : 0.9657285767644055_7\n"
     ]
    },
    {
     "name": "stderr",
     "output_type": "stream",
     "text": [
      "100%|█████████████████████████████████████████| 156/156 [00:16<00:00,  9.56it/s]\n"
     ]
    },
    {
     "name": "stdout",
     "output_type": "stream",
     "text": [
      "Night AP : 0.8965442038660392_7\n",
      "Total AP : 0.9620792057231284_7\n"
     ]
    },
    {
     "name": "stderr",
     "output_type": "stream",
     "text": [
      "100%|█████████████████████████████████████████| 300/300 [00:31<00:00,  9.48it/s]\n"
     ]
    },
    {
     "name": "stdout",
     "output_type": "stream",
     "text": [
      "Sunny AP : 0.9735831031817028_8\n"
     ]
    },
    {
     "name": "stderr",
     "output_type": "stream",
     "text": [
      "100%|█████████████████████████████████████████████| 7/7 [00:00<00:00, 10.01it/s]\n"
     ]
    },
    {
     "name": "stdout",
     "output_type": "stream",
     "text": [
      "Fog AP : 0.699999988079071_8\n"
     ]
    },
    {
     "name": "stderr",
     "output_type": "stream",
     "text": [
      "100%|█████████████████████████████████████████| 286/286 [00:30<00:00,  9.28it/s]\n"
     ]
    },
    {
     "name": "stdout",
     "output_type": "stream",
     "text": [
      "Rain AP : 0.9671959013079601_8\n"
     ]
    },
    {
     "name": "stderr",
     "output_type": "stream",
     "text": [
      "100%|█████████████████████████████████████████| 156/156 [00:16<00:00,  9.73it/s]\n"
     ]
    },
    {
     "name": "stdout",
     "output_type": "stream",
     "text": [
      "Night AP : 0.9129937233028329_8\n",
      "Total AP : 0.9631424213814448_8\n"
     ]
    },
    {
     "name": "stderr",
     "output_type": "stream",
     "text": [
      "100%|█████████████████████████████████████████| 300/300 [00:31<00:00,  9.56it/s]\n"
     ]
    },
    {
     "name": "stdout",
     "output_type": "stream",
     "text": [
      "Sunny AP : 0.9748124723119069_9\n"
     ]
    },
    {
     "name": "stderr",
     "output_type": "stream",
     "text": [
      "100%|█████████████████████████████████████████████| 7/7 [00:00<00:00, 10.09it/s]\n"
     ]
    },
    {
     "name": "stdout",
     "output_type": "stream",
     "text": [
      "Fog AP : 0.699999988079071_9\n"
     ]
    },
    {
     "name": "stderr",
     "output_type": "stream",
     "text": [
      "100%|█████████████████████████████████████████| 286/286 [00:30<00:00,  9.36it/s]\n"
     ]
    },
    {
     "name": "stdout",
     "output_type": "stream",
     "text": [
      "Rain AP : 0.9668310851110888_9\n"
     ]
    },
    {
     "name": "stderr",
     "output_type": "stream",
     "text": [
      "100%|█████████████████████████████████████████| 156/156 [00:16<00:00,  9.60it/s]\n"
     ]
    },
    {
     "name": "stdout",
     "output_type": "stream",
     "text": [
      "Night AP : 0.9059282976602212_9\n",
      "Total AP : 0.9622906262819164_9\n"
     ]
    },
    {
     "name": "stderr",
     "output_type": "stream",
     "text": [
      "100%|█████████████████████████████████████████| 300/300 [00:31<00:00,  9.57it/s]\n"
     ]
    },
    {
     "name": "stdout",
     "output_type": "stream",
     "text": [
      "Sunny AP : 0.9735956206824277_10\n"
     ]
    },
    {
     "name": "stderr",
     "output_type": "stream",
     "text": [
      "100%|█████████████████████████████████████████████| 7/7 [00:00<00:00, 10.23it/s]\n"
     ]
    },
    {
     "name": "stdout",
     "output_type": "stream",
     "text": [
      "Fog AP : 0.699999988079071_10\n"
     ]
    },
    {
     "name": "stderr",
     "output_type": "stream",
     "text": [
      "100%|█████████████████████████████████████████| 286/286 [00:30<00:00,  9.35it/s]\n"
     ]
    },
    {
     "name": "stdout",
     "output_type": "stream",
     "text": [
      "Rain AP : 0.9639314758222497_10\n"
     ]
    },
    {
     "name": "stderr",
     "output_type": "stream",
     "text": [
      "100%|█████████████████████████████████████████| 156/156 [00:16<00:00,  9.60it/s]\n"
     ]
    },
    {
     "name": "stdout",
     "output_type": "stream",
     "text": [
      "Night AP : 0.9096660092646687_10\n",
      "Total AP : 0.9607401930824011_10\n"
     ]
    },
    {
     "name": "stderr",
     "output_type": "stream",
     "text": [
      "100%|█████████████████████████████████████████| 300/300 [00:31<00:00,  9.40it/s]\n"
     ]
    },
    {
     "name": "stdout",
     "output_type": "stream",
     "text": [
      "Sunny AP : 0.9724979115636394_11\n"
     ]
    },
    {
     "name": "stderr",
     "output_type": "stream",
     "text": [
      "100%|█████████████████████████████████████████████| 7/7 [00:00<00:00, 10.07it/s]\n"
     ]
    },
    {
     "name": "stdout",
     "output_type": "stream",
     "text": [
      "Fog AP : 0.699999988079071_11\n"
     ]
    },
    {
     "name": "stderr",
     "output_type": "stream",
     "text": [
      "100%|█████████████████████████████████████████| 286/286 [00:30<00:00,  9.23it/s]\n"
     ]
    },
    {
     "name": "stdout",
     "output_type": "stream",
     "text": [
      "Rain AP : 0.9616019753643599_11\n"
     ]
    },
    {
     "name": "stderr",
     "output_type": "stream",
     "text": [
      "100%|█████████████████████████████████████████| 156/156 [00:16<00:00,  9.61it/s]\n"
     ]
    },
    {
     "name": "stdout",
     "output_type": "stream",
     "text": [
      "Night AP : 0.89423664863072_11\n",
      "Total AP : 0.9572911856336574_11\n"
     ]
    },
    {
     "name": "stderr",
     "output_type": "stream",
     "text": [
      "100%|█████████████████████████████████████████| 300/300 [00:31<00:00,  9.41it/s]\n"
     ]
    },
    {
     "name": "stdout",
     "output_type": "stream",
     "text": [
      "Sunny AP : 0.971734722761159_12\n"
     ]
    },
    {
     "name": "stderr",
     "output_type": "stream",
     "text": [
      "100%|█████████████████████████████████████████████| 7/7 [00:00<00:00, 10.03it/s]\n"
     ]
    },
    {
     "name": "stdout",
     "output_type": "stream",
     "text": [
      "Fog AP : 0.699999988079071_12\n"
     ]
    },
    {
     "name": "stderr",
     "output_type": "stream",
     "text": [
      "100%|█████████████████████████████████████████| 286/286 [00:30<00:00,  9.26it/s]\n"
     ]
    },
    {
     "name": "stdout",
     "output_type": "stream",
     "text": [
      "Rain AP : 0.9615170676320268_12\n"
     ]
    },
    {
     "name": "stderr",
     "output_type": "stream",
     "text": [
      "100%|█████████████████████████████████████████| 156/156 [00:16<00:00,  9.51it/s]\n"
     ]
    },
    {
     "name": "stdout",
     "output_type": "stream",
     "text": [
      "Night AP : 0.9129451034564688_12\n",
      "Total AP : 0.9592079896015058_12\n"
     ]
    },
    {
     "name": "stderr",
     "output_type": "stream",
     "text": [
      "100%|█████████████████████████████████████████| 300/300 [00:32<00:00,  9.35it/s]\n"
     ]
    },
    {
     "name": "stdout",
     "output_type": "stream",
     "text": [
      "Sunny AP : 0.9728730826187011_13\n"
     ]
    },
    {
     "name": "stderr",
     "output_type": "stream",
     "text": [
      "100%|█████████████████████████████████████████████| 7/7 [00:00<00:00,  8.99it/s]\n"
     ]
    },
    {
     "name": "stdout",
     "output_type": "stream",
     "text": [
      "Fog AP : 0.699999988079071_13\n"
     ]
    },
    {
     "name": "stderr",
     "output_type": "stream",
     "text": [
      "100%|█████████████████████████████████████████| 286/286 [00:30<00:00,  9.27it/s]\n"
     ]
    },
    {
     "name": "stdout",
     "output_type": "stream",
     "text": [
      "Rain AP : 0.9604608745453049_13\n"
     ]
    },
    {
     "name": "stderr",
     "output_type": "stream",
     "text": [
      "100%|█████████████████████████████████████████| 156/156 [00:16<00:00,  9.43it/s]\n"
     ]
    },
    {
     "name": "stdout",
     "output_type": "stream",
     "text": [
      "Night AP : 0.9132656944545694_13\n",
      "Total AP : 0.9590001447919789_13\n"
     ]
    },
    {
     "name": "stderr",
     "output_type": "stream",
     "text": [
      "100%|█████████████████████████████████████████| 300/300 [00:31<00:00,  9.43it/s]\n"
     ]
    },
    {
     "name": "stdout",
     "output_type": "stream",
     "text": [
      "Sunny AP : 0.9714519794678971_14\n"
     ]
    },
    {
     "name": "stderr",
     "output_type": "stream",
     "text": [
      "100%|█████████████████████████████████████████████| 7/7 [00:00<00:00, 10.09it/s]\n"
     ]
    },
    {
     "name": "stdout",
     "output_type": "stream",
     "text": [
      "Fog AP : 0.699999988079071_14\n"
     ]
    },
    {
     "name": "stderr",
     "output_type": "stream",
     "text": [
      "100%|█████████████████████████████████████████| 286/286 [00:31<00:00,  9.19it/s]\n"
     ]
    },
    {
     "name": "stdout",
     "output_type": "stream",
     "text": [
      "Rain AP : 0.9605357137230257_14\n"
     ]
    },
    {
     "name": "stderr",
     "output_type": "stream",
     "text": [
      "100%|█████████████████████████████████████████| 156/156 [00:16<00:00,  9.52it/s]\n"
     ]
    },
    {
     "name": "stdout",
     "output_type": "stream",
     "text": [
      "Night AP : 0.900923231730193_14\n",
      "Total AP : 0.957154995400785_14\n"
     ]
    },
    {
     "name": "stderr",
     "output_type": "stream",
     "text": [
      "100%|█████████████████████████████████████████| 300/300 [00:32<00:00,  9.37it/s]\n"
     ]
    },
    {
     "name": "stdout",
     "output_type": "stream",
     "text": [
      "Sunny AP : 0.9601287004065675_15\n"
     ]
    },
    {
     "name": "stderr",
     "output_type": "stream",
     "text": [
      "100%|█████████████████████████████████████████████| 7/7 [00:00<00:00,  9.68it/s]\n"
     ]
    },
    {
     "name": "stdout",
     "output_type": "stream",
     "text": [
      "Fog AP : 0.699999988079071_15\n"
     ]
    },
    {
     "name": "stderr",
     "output_type": "stream",
     "text": [
      "100%|█████████████████████████████████████████| 286/286 [00:31<00:00,  9.13it/s]\n"
     ]
    },
    {
     "name": "stdout",
     "output_type": "stream",
     "text": [
      "Rain AP : 0.962632263886217_15\n"
     ]
    },
    {
     "name": "stderr",
     "output_type": "stream",
     "text": [
      "100%|█████████████████████████████████████████| 156/156 [00:16<00:00,  9.58it/s]\n"
     ]
    },
    {
     "name": "stdout",
     "output_type": "stream",
     "text": [
      "Night AP : 0.8963926248048644_15\n",
      "Total AP : 0.9541161996375855_15\n"
     ]
    }
   ],
   "source": [
    "total_AP = []\n",
    "sunny_AP = []\n",
    "fog_AP = []\n",
    "rain_AP = []\n",
    "night_AP = []\n",
    "\n",
    "model_fog = get_model_instance_segmentation(2)\n",
    "model_fog.to(device)\n",
    "model_rain = get_model_instance_segmentation(2)\n",
    "model_rain.to(device)\n",
    "model_sunny = get_model_instance_segmentation(2)\n",
    "model_sunny.to(device)\n",
    "model_night = get_model_instance_segmentation(2)\n",
    "model_night.to(device)\n",
    "    \n",
    "for i in range(15):\n",
    "    model_fog.load_state_dict(torch.load('./model/fog_+'+str(i+1)+'.pt'))\n",
    "    model_rain.load_state_dict(torch.load('./model/rain_+'+str(i+1)+'.pt'))\n",
    "    model_sunny.load_state_dict(torch.load('./model/sunny_+'+str(i+1)+'.pt'))\n",
    "    model_night.load_state_dict(torch.load('./model/night_+'+str(i+1)+'.pt'))\n",
    "    model_fog.eval()\n",
    "    model_rain.eval()\n",
    "    model_sunny.eval()\n",
    "    model_night.eval()\n",
    "        \n",
    "    # Sunny AP Caculation\n",
    "    \n",
    "    model = model_sunny\n",
    "\n",
    "    labels_sunny = []\n",
    "    preds_adj_all_sunny = []\n",
    "    annot_all_sunny = []\n",
    "\n",
    "    for im, annot in tqdm(test_data_loader_sunny, position = 0, leave = True):\n",
    "        im = list(img.to(device) for img in im)\n",
    "        #annot = [{k: v.to(device) for k, v in t.items()} for t in annot]\n",
    "\n",
    "        for t in annot:\n",
    "            labels_sunny += t['labels']\n",
    "\n",
    "        with torch.no_grad():\n",
    "            preds_adj_sunny = make_prediction(model, im, 0.5)\n",
    "            preds_adj_sunny = [{k: v.to(torch.device('cpu')) for k, v in t.items()} for t in preds_adj_sunny]\n",
    "            preds_adj_all_sunny.append(preds_adj_sunny)\n",
    "            annot_all_sunny.append(annot)       \n",
    "    preds_adj_all = preds_adj_all_sunny\n",
    "    annot_all = annot_all_sunny\n",
    "    labels = labels_sunny    \n",
    "    sample_metrics = []\n",
    "    for batch_i in range(len(preds_adj_all)):\n",
    "        sample_metrics += get_batch_statistics(preds_adj_all[batch_i], annot_all[batch_i], iou_threshold=0.5) \n",
    "    true_positives, pred_scores, pred_labels = [torch.cat(x, 0) for x in list(zip(*sample_metrics))]\n",
    "    precision, recall, AP, f1, ap_class = ap_per_class(true_positives, pred_scores, pred_labels, torch.tensor(labels))\n",
    "    mAP_sunny = torch.mean(AP)\n",
    "    sunny_AP.append(mAP_sunny.item())\n",
    "    print(f'Sunny AP : {mAP_sunny}'+'_'+str(i+1))\n",
    "    \n",
    "    # Fog AP Caculation\n",
    "    labels_fog = []\n",
    "    preds_adj_all_fog = []\n",
    "    annot_all_fog = []\n",
    "    model = model_fog\n",
    "    for im, annot in tqdm(test_data_loader_fog, position = 0, leave = True):\n",
    "        im = list(img.to(device) for img in im)\n",
    "        for t in annot:\n",
    "            labels_fog += t['labels']\n",
    "        with torch.no_grad():\n",
    "            preds_adj_fog = make_prediction(model, im, 0.5)\n",
    "            preds_adj_fog = [{k: v.to(torch.device('cpu')) for k, v in t.items()} for t in preds_adj_fog]\n",
    "            preds_adj_all_fog.append(preds_adj_fog)\n",
    "            annot_all_fog.append(annot)            \n",
    "    preds_adj_all = preds_adj_all_fog\n",
    "    annot_all = annot_all_fog\n",
    "    labels = labels_fog            \n",
    "    sample_metrics = []\n",
    "    for batch_i in range(len(preds_adj_all)):\n",
    "        sample_metrics += get_batch_statistics(preds_adj_all[batch_i], annot_all[batch_i], iou_threshold=0.5) \n",
    "    true_positives, pred_scores, pred_labels = [torch.cat(x, 0) for x in list(zip(*sample_metrics))]\n",
    "    precision, recall, AP, f1, ap_class = ap_per_class(true_positives, pred_scores, pred_labels, torch.tensor(labels))\n",
    "    mAP_fog = torch.mean(AP)\n",
    "    fog_AP.append(mAP_fog.item())\n",
    "    print(f'Fog AP : {mAP_fog}'+'_'+str(i+1))\n",
    "    \n",
    "    # Rain AP Caculation\n",
    "    model = model_rain\n",
    "    labels_rain = []\n",
    "    preds_adj_all_rain = []\n",
    "    annot_all_rain = []\n",
    "\n",
    "    for im, annot in tqdm(test_data_loader_rain, position = 0, leave = True):\n",
    "        im = list(img.to(device) for img in im)\n",
    "        #annot = [{k: v.to(device) for k, v in t.items()} for t in annot]\n",
    "\n",
    "        for t in annot:\n",
    "            labels_rain += t['labels']\n",
    "\n",
    "        with torch.no_grad():\n",
    "            preds_adj_rain = make_prediction(model, im, 0.5)\n",
    "            preds_adj_rain = [{k: v.to(torch.device('cpu')) for k, v in t.items()} for t in preds_adj_rain]\n",
    "            preds_adj_all_rain.append(preds_adj_rain)\n",
    "            annot_all_rain.append(annot)\n",
    "\n",
    "    preds_adj_all = preds_adj_all_rain\n",
    "    annot_all = annot_all_rain\n",
    "    labels = labels_rain\n",
    "    sample_metrics = []\n",
    "    for batch_i in range(len(preds_adj_all)):\n",
    "        sample_metrics += get_batch_statistics(preds_adj_all[batch_i], annot_all[batch_i], iou_threshold=0.5) \n",
    "    true_positives, pred_scores, pred_labels = [torch.cat(x, 0) for x in list(zip(*sample_metrics))]\n",
    "    precision, recall, AP, f1, ap_class = ap_per_class(true_positives, pred_scores, pred_labels, torch.tensor(labels))\n",
    "    mAP_rain = torch.mean(AP)\n",
    "    rain_AP.append(mAP_rain.item())\n",
    "    print(f'Rain AP : {mAP_rain}'+'_'+str(i+1))\n",
    "    \n",
    "    # Night AP Caculation\n",
    "    model = model_night\n",
    "\n",
    "    labels_night = []\n",
    "    preds_adj_all_night = []\n",
    "    annot_all_night = []\n",
    "\n",
    "    for im, annot in tqdm(test_data_loader_night, position = 0, leave = True):\n",
    "        im = list(img.to(device) for img in im)\n",
    "    #annot = [{k: v.to(device) for k, v in t.items()} for t in annot]\n",
    "\n",
    "        for t in annot:\n",
    "            labels_night += t['labels']\n",
    "\n",
    "        with torch.no_grad():\n",
    "            preds_adj_night = make_prediction(model, im, 0.5)\n",
    "            preds_adj_night = [{k: v.to(torch.device('cpu')) for k, v in t.items()} for t in preds_adj_night]\n",
    "            preds_adj_all_night.append(preds_adj_night)\n",
    "            annot_all_night.append(annot)\n",
    "\n",
    "    preds_adj_all = preds_adj_all_night\n",
    "    annot_all = annot_all_night\n",
    "    labels = labels_night\n",
    "    sample_metrics = []\n",
    "    for batch_i in range(len(preds_adj_all)):\n",
    "        sample_metrics += get_batch_statistics(preds_adj_all[batch_i], annot_all[batch_i], iou_threshold=0.5) \n",
    "    true_positives, pred_scores, pred_labels = [torch.cat(x, 0) for x in list(zip(*sample_metrics))]\n",
    "    precision, recall, AP, f1, ap_class = ap_per_class(true_positives, pred_scores, pred_labels, torch.tensor(labels))\n",
    "    mAP_night = torch.mean(AP)\n",
    "    night_AP.append(mAP_night.item())\n",
    "    print(f'Night AP : {mAP_night}'+'_'+str(i+1))\n",
    "    \n",
    "    # Sum up all data from different networks\n",
    "    preds_adj_all = preds_adj_all_fog + preds_adj_all_rain + preds_adj_all_sunny+ preds_adj_all_night\n",
    "    annot_all = annot_all_fog + annot_all_rain + annot_all_sunny + annot_all_night\n",
    "    labels = labels_fog + labels_rain + labels_sunny + labels_night   \n",
    "    \n",
    "    # Total AP Caculation\n",
    "    sample_metrics = []\n",
    "    for batch_i in range(len(preds_adj_all)):\n",
    "        sample_metrics += get_batch_statistics(preds_adj_all[batch_i], annot_all[batch_i], iou_threshold=0.5) \n",
    "    true_positives, pred_scores, pred_labels = [torch.cat(x, 0) for x in list(zip(*sample_metrics))]\n",
    "    precision, recall, AP, f1, ap_class = ap_per_class(true_positives, pred_scores, pred_labels, torch.tensor(labels))\n",
    "    mAP_total = torch.mean(AP)\n",
    "    total_AP.append(mAP_total.item())\n",
    "    print(f'Total AP : {mAP_total}'+'_'+str(i+1))"
   ]
  },
  {
   "cell_type": "code",
   "execution_count": 4,
   "id": "03495226",
   "metadata": {},
   "outputs": [
    {
     "data": {
      "image/png": "[encoded data removed]",
      "text/plain": [
       "<Figure size 1080x720 with 1 Axes>"
      ]
     },
     "metadata": {
      "needs_background": "light"
     },
     "output_type": "display_data"
    }
   ],
   "source": [
    "y1 = total_AP\n",
    "y2 = sunny_AP\n",
    "y3 = fog_AP\n",
    "y4 = rain_AP\n",
    "y5 = night_AP\n",
    "x = list(range(0,len(y1)))\n",
    "\n",
    "plt.figure(figsize=(15,10))\n",
    "plt.plot(x, y1, label = \"Total\")\n",
    "plt.plot(x, y2, label = \"Sunny\")\n",
    "plt.plot(x, y3, label = \"Fog\")\n",
    "plt.plot(x, y4, label = \"Rain\")\n",
    "plt.plot(x, y5, label = \"Night\")\n",
    "plt.xlabel('Epoch')\n",
    "plt.ylabel('AP')\n",
    "plt.title('AP')\n",
    "plt.legend()\n",
    "plt.show()"
   ]
  },
  {
   "cell_type": "code",
   "execution_count": 5,
   "id": "dc3accf0",
   "metadata": {},
   "outputs": [
    {
     "name": "stdout",
     "output_type": "stream",
     "text": [
      "0.9675296555099457 3\n",
      "0.9788639992757417 6\n",
      "0.7175000102072957 2\n",
      "0.9710378137246458 3\n",
      "0.9226573045215751 3\n"
     ]
    }
   ],
   "source": [
    "(m,i) = max((v,i) for i,v in enumerate(total_AP))\n",
    "print (m,i)\n",
    "\n",
    "(m,i) = max((v,i) for i,v in enumerate(sunny_AP))\n",
    "print (m,i)\n",
    "\n",
    "(m,i) = max((v,i) for i,v in enumerate(fog_AP))\n",
    "print (m,i)\n",
    "\n",
    "(m,i) = max((v,i) for i,v in enumerate(rain_AP))\n",
    "print (m,i)\n",
    "\n",
    "(m,i) = max((v,i) for i,v in enumerate(night_AP))\n",
    "print (m,i)"
   ]
  },
  {
   "cell_type": "code",
   "execution_count": 6,
   "id": "c8bd4df6",
   "metadata": {},
   "outputs": [
    {
     "name": "stdout",
     "output_type": "stream",
     "text": [
      "[0.9487722664906961, 0.9599399536806317, 0.9600642838993245, 0.9675296555099457, 0.9638000250630583, 0.9638673842450451, 0.9620792057231284, 0.9631424213814448, 0.9622906262819164, 0.9607401930824011, 0.9572911856336574, 0.9592079896015058, 0.9590001447919789, 0.957154995400785, 0.9541161996375855]\n",
      "[0.9625382698503762, 0.971801368280083, 0.9753953421095538, 0.9771542305544578, 0.9719208718424639, 0.9724298824355664, 0.9788639992757417, 0.9735831031817028, 0.9748124723119069, 0.9735956206824277, 0.9724979115636394, 0.971734722761159, 0.9728730826187011, 0.9714519794678971, 0.9601287004065675]\n",
      "[0.44571430964129366, 0.699999988079071, 0.7175000102072957, 0.5714285944189346, 0.699999988079071, 0.699999988079071, 0.699999988079071, 0.699999988079071, 0.699999988079071, 0.699999988079071, 0.699999988079071, 0.699999988079071, 0.699999988079071, 0.699999988079071, 0.699999988079071]\n",
      "[0.9532735066516089, 0.9637909526318147, 0.9656394418279746, 0.9710378137246458, 0.9687505169835227, 0.9685105692437936, 0.9657285767644055, 0.9671959013079601, 0.9668310851110888, 0.9639314758222497, 0.9616019753643599, 0.9615170676320268, 0.9604608745453049, 0.9605357137230257, 0.962632263886217]\n",
      "[0.8808861832412731, 0.9032427977898259, 0.8814388900780816, 0.9226573045215751, 0.9144431513077187, 0.9149176633135987, 0.8965442038660392, 0.9129937233028329, 0.9059282976602212, 0.9096660092646687, 0.89423664863072, 0.9129451034564688, 0.9132656944545694, 0.900923231730193, 0.8963926248048644]\n"
     ]
    }
   ],
   "source": [
    "print(total_AP)\n",
    "print(sunny_AP)\n",
    "print(fog_AP)\n",
    "print(rain_AP)\n",
    "print(night_AP)"
   ]
  },
  {
   "cell_type": "code",
   "execution_count": 7,
   "id": "9573ebec",
   "metadata": {},
   "outputs": [
    {
     "data": {
      "text/plain": [
       "<All keys matched successfully>"
      ]
     },
     "execution_count": 7,
     "metadata": {},
     "output_type": "execute_result"
    }
   ],
   "source": [
    "# Load models\n",
    "model_fog.load_state_dict(torch.load('./model/fog_+3.pt'))\n",
    "model_rain.load_state_dict(torch.load('./model/rain_+4.pt'))\n",
    "model_sunny.load_state_dict(torch.load('./model/sunny_+7.pt'))\n",
    "model_night.load_state_dict(torch.load('./model/night_+4.pt'))"
   ]
  },
  {
   "cell_type": "code",
   "execution_count": 8,
   "id": "739e3865",
   "metadata": {},
   "outputs": [
    {
     "name": "stderr",
     "output_type": "stream",
     "text": [
      "100%|█████████████████████████████████████████████| 7/7 [00:00<00:00, 10.29it/s]"
     ]
    },
    {
     "name": "stdout",
     "output_type": "stream",
     "text": [
      "mAP : 0.7175000102072957\n",
      "AP : tensor([0.7175], dtype=torch.float64)\n"
     ]
    },
    {
     "name": "stderr",
     "output_type": "stream",
     "text": [
      "\n"
     ]
    }
   ],
   "source": [
    "# fog\n",
    "from tqdm import tqdm\n",
    "\n",
    "model = model_fog\n",
    "\n",
    "labels_fog = []\n",
    "preds_adj_all_fog = []\n",
    "annot_all_fog = []\n",
    "\n",
    "for im, annot in tqdm(test_data_loader_fog, position = 0, leave = True):\n",
    "    im = list(img.to(device) for img in im)\n",
    "    #annot = [{k: v.to(device) for k, v in t.items()} for t in annot]\n",
    "\n",
    "    for t in annot:\n",
    "        labels_fog += t['labels']\n",
    "\n",
    "    with torch.no_grad():\n",
    "        preds_adj_fog = make_prediction(model, im, 0.5)\n",
    "        preds_adj_fog = [{k: v.to(torch.device('cpu')) for k, v in t.items()} for t in preds_adj_fog]\n",
    "        preds_adj_all_fog.append(preds_adj_fog)\n",
    "        annot_all_fog.append(annot)\n",
    "\n",
    "preds_adj_all = preds_adj_all_fog\n",
    "annot_all = annot_all_fog\n",
    "labels = labels_fog\n",
    "\n",
    "sample_metrics = []\n",
    "\n",
    "for batch_i in range(len(preds_adj_all)): # len(preds_adj_all) : The number of batches\n",
    "    sample_metrics += get_batch_statistics(preds_adj_all[batch_i], annot_all[batch_i], iou_threshold=0.5) \n",
    "\n",
    "true_positives, pred_scores, pred_labels = [torch.cat(x, 0) for x in list(zip(*sample_metrics))]\n",
    "precision, recall, AP, f1, ap_class = ap_per_class(true_positives, pred_scores, pred_labels, torch.tensor(labels))\n",
    "mAP = torch.mean(AP)\n",
    "print(f'mAP : {mAP}')\n",
    "print(f'AP : {AP}')"
   ]
  },
  {
   "cell_type": "code",
   "execution_count": 9,
   "id": "7c5191d4",
   "metadata": {},
   "outputs": [
    {
     "name": "stderr",
     "output_type": "stream",
     "text": [
      "100%|█████████████████████████████████████████| 286/286 [00:28<00:00,  9.93it/s]\n"
     ]
    },
    {
     "name": "stdout",
     "output_type": "stream",
     "text": [
      "mAP : 0.9710378137246458\n",
      "AP : tensor([0.9710], dtype=torch.float64)\n"
     ]
    }
   ],
   "source": [
    "# rain\n",
    "from tqdm import tqdm\n",
    "\n",
    "model = model_rain\n",
    "\n",
    "labels_rain = []\n",
    "preds_adj_all_rain = []\n",
    "annot_all_rain = []\n",
    "\n",
    "for im, annot in tqdm(test_data_loader_rain, position = 0, leave = True):\n",
    "    im = list(img.to(device) for img in im)\n",
    "    #annot = [{k: v.to(device) for k, v in t.items()} for t in annot]\n",
    "\n",
    "    for t in annot:\n",
    "        labels_rain += t['labels']\n",
    "\n",
    "    with torch.no_grad():\n",
    "        preds_adj_rain = make_prediction(model, im, 0.5)\n",
    "        preds_adj_rain = [{k: v.to(torch.device('cpu')) for k, v in t.items()} for t in preds_adj_rain]\n",
    "        preds_adj_all_rain.append(preds_adj_rain)\n",
    "        annot_all_rain.append(annot)\n",
    "\n",
    "preds_adj_all = preds_adj_all_rain\n",
    "annot_all = annot_all_rain\n",
    "labels = labels_rain\n",
    "\n",
    "sample_metrics = []\n",
    "\n",
    "for batch_i in range(len(preds_adj_all)): # len(preds_adj_all) : The number of batches\n",
    "    sample_metrics += get_batch_statistics(preds_adj_all[batch_i], annot_all[batch_i], iou_threshold=0.5) \n",
    "\n",
    "true_positives, pred_scores, pred_labels = [torch.cat(x, 0) for x in list(zip(*sample_metrics))]\n",
    "precision, recall, AP, f1, ap_class = ap_per_class(true_positives, pred_scores, pred_labels, torch.tensor(labels))\n",
    "mAP = torch.mean(AP)\n",
    "print(f'mAP : {mAP}')\n",
    "print(f'AP : {AP}')"
   ]
  },
  {
   "cell_type": "code",
   "execution_count": 10,
   "id": "e9b726ff",
   "metadata": {},
   "outputs": [
    {
     "name": "stderr",
     "output_type": "stream",
     "text": [
      "100%|█████████████████████████████████████████| 300/300 [00:30<00:00,  9.93it/s]\n"
     ]
    },
    {
     "name": "stdout",
     "output_type": "stream",
     "text": [
      "mAP : 0.9788639992757417\n",
      "AP : tensor([0.9789], dtype=torch.float64)\n"
     ]
    }
   ],
   "source": [
    "# sunny\n",
    "from tqdm import tqdm\n",
    "\n",
    "model = model_sunny\n",
    "\n",
    "labels_sunny = []\n",
    "preds_adj_all_sunny = []\n",
    "annot_all_sunny = []\n",
    "\n",
    "for im, annot in tqdm(test_data_loader_sunny, position = 0, leave = True):\n",
    "    im = list(img.to(device) for img in im)\n",
    "    #annot = [{k: v.to(device) for k, v in t.items()} for t in annot]\n",
    "\n",
    "    for t in annot:\n",
    "        labels_sunny += t['labels']\n",
    "\n",
    "    with torch.no_grad():\n",
    "        preds_adj_sunny = make_prediction(model, im, 0.5)\n",
    "        preds_adj_sunny = [{k: v.to(torch.device('cpu')) for k, v in t.items()} for t in preds_adj_sunny]\n",
    "        preds_adj_all_sunny.append(preds_adj_sunny)\n",
    "        annot_all_sunny.append(annot)\n",
    "        \n",
    "preds_adj_all = preds_adj_all_sunny\n",
    "annot_all = annot_all_sunny\n",
    "labels = labels_sunny\n",
    "\n",
    "sample_metrics = []\n",
    "\n",
    "for batch_i in range(len(preds_adj_all)): # len(preds_adj_all) : The number of batches\n",
    "    sample_metrics += get_batch_statistics(preds_adj_all[batch_i], annot_all[batch_i], iou_threshold=0.5) \n",
    "\n",
    "true_positives, pred_scores, pred_labels = [torch.cat(x, 0) for x in list(zip(*sample_metrics))]\n",
    "precision, recall, AP, f1, ap_class = ap_per_class(true_positives, pred_scores, pred_labels, torch.tensor(labels))\n",
    "mAP = torch.mean(AP)\n",
    "print(f'mAP : {mAP}')\n",
    "print(f'AP : {AP}')"
   ]
  },
  {
   "cell_type": "code",
   "execution_count": 11,
   "id": "36c1f4c8",
   "metadata": {},
   "outputs": [
    {
     "name": "stderr",
     "output_type": "stream",
     "text": [
      "100%|█████████████████████████████████████████| 156/156 [00:15<00:00,  9.99it/s]"
     ]
    },
    {
     "name": "stdout",
     "output_type": "stream",
     "text": [
      "mAP : 0.9226573045215751\n",
      "AP : tensor([0.9227], dtype=torch.float64)\n"
     ]
    },
    {
     "name": "stderr",
     "output_type": "stream",
     "text": [
      "\n"
     ]
    }
   ],
   "source": [
    "# night\n",
    "from tqdm import tqdm\n",
    "\n",
    "model = model_night\n",
    "\n",
    "labels_night = []\n",
    "preds_adj_all_night = []\n",
    "annot_all_night = []\n",
    "\n",
    "for im, annot in tqdm(test_data_loader_night, position = 0, leave = True):\n",
    "    im = list(img.to(device) for img in im)\n",
    "    #annot = [{k: v.to(device) for k, v in t.items()} for t in annot]\n",
    "\n",
    "    for t in annot:\n",
    "        labels_night += t['labels']\n",
    "\n",
    "    with torch.no_grad():\n",
    "        preds_adj_night = make_prediction(model, im, 0.5)\n",
    "        preds_adj_night = [{k: v.to(torch.device('cpu')) for k, v in t.items()} for t in preds_adj_night]\n",
    "        preds_adj_all_night.append(preds_adj_night)\n",
    "        annot_all_night.append(annot)\n",
    "\n",
    "preds_adj_all = preds_adj_all_night\n",
    "annot_all = annot_all_night\n",
    "labels = labels_night\n",
    "\n",
    "sample_metrics = []\n",
    "\n",
    "for batch_i in range(len(preds_adj_all)): # len(preds_adj_all) : The number of batches\n",
    "    sample_metrics += get_batch_statistics(preds_adj_all[batch_i], annot_all[batch_i], iou_threshold=0.5) \n",
    "\n",
    "true_positives, pred_scores, pred_labels = [torch.cat(x, 0) for x in list(zip(*sample_metrics))]\n",
    "precision, recall, AP, f1, ap_class = ap_per_class(true_positives, pred_scores, pred_labels, torch.tensor(labels))\n",
    "mAP = torch.mean(AP)\n",
    "print(f'mAP : {mAP}')\n",
    "print(f'AP : {AP}')"
   ]
  },
  {
   "cell_type": "code",
   "execution_count": 12,
   "id": "b3eec997",
   "metadata": {},
   "outputs": [
    {
     "name": "stdout",
     "output_type": "stream",
     "text": [
      "mAP : 0.9685430495104015\n",
      "AP : tensor([0.9685], dtype=torch.float64)\n"
     ]
    }
   ],
   "source": [
    "# Sum up all data from different networks\n",
    "preds_adj_all = preds_adj_all_fog + preds_adj_all_rain + preds_adj_all_sunny+ preds_adj_all_night\n",
    "annot_all = annot_all_fog + annot_all_rain + annot_all_sunny + annot_all_night\n",
    "labels = labels_fog + labels_rain + labels_sunny + labels_night\n",
    "\n",
    "# Overall AP\n",
    "\n",
    "sample_metrics = []\n",
    "\n",
    "for batch_i in range(len(preds_adj_all)): # len(preds_adj_all) : The number of batches\n",
    "    sample_metrics += get_batch_statistics(preds_adj_all[batch_i], annot_all[batch_i], iou_threshold=0.5) \n",
    "\n",
    "true_positives, pred_scores, pred_labels = [torch.cat(x, 0) for x in list(zip(*sample_metrics))]\n",
    "precision, recall, AP, f1, ap_class = ap_per_class(true_positives, pred_scores, pred_labels, torch.tensor(labels))\n",
    "mAP = torch.mean(AP)\n",
    "print(f'mAP : {mAP}')\n",
    "print(f'AP : {AP}')"
   ]
  },
  {
   "cell_type": "code",
   "execution_count": null,
   "id": "29061b1a",
   "metadata": {},
   "outputs": [],
   "source": []
  }
 ],
 "metadata": {
  "kernelspec": {
   "display_name": "Python 3 (ipykernel)",
   "language": "python",
   "name": "python3"
  },
  "language_info": {
   "codemirror_mode": {
    "name": "ipython",
    "version": 3
   },
   "file_extension": ".py",
   "mimetype": "text/x-python",
   "name": "python",
   "nbconvert_exporter": "python",
   "pygments_lexer": "ipython3",
   "version": "3.9.13"
  }
 },
 "nbformat": 4,
 "nbformat_minor": 5
}
