{
 "cells": [
  {
   "cell_type": "code",
   "execution_count": 4,
   "id": "7b6081b3",
   "metadata": {},
   "outputs": [],
   "source": [
    "import os\n",
    "from os import path\n",
    "import shutil\n",
    "import xml.etree.ElementTree as ET\n",
    "from xml.etree.ElementTree import Element, dump, ElementTree\n",
    "import natsort\n",
    "from xml.dom import minidom"
   ]
  },
  {
   "cell_type": "code",
   "execution_count": 44,
   "id": "6b0fe19d",
   "metadata": {},
   "outputs": [
    {
     "name": "stdout",
     "output_type": "stream",
     "text": [
      "2696\n"
     ]
    }
   ],
   "source": [
    "weather = 'night_'\n",
    "\n",
    "output_root = './output/'\n",
    "file_root = './annotation/'\n",
    "file_list = os.listdir(file_root)\n",
    "file_list_sorted = natsort.natsorted(file_list)\n",
    "print(len(file_list_sorted))"
   ]
  },
  {
   "cell_type": "code",
   "execution_count": 45,
   "id": "51bce4cc",
   "metadata": {},
   "outputs": [],
   "source": [
    "for i in range(len(file_list_sorted)):\n",
    "    filePath = file_root+file_list_sorted[i]\n",
    "    file = minidom.parse(filePath)\n",
    "    models = file.getElementsByTagName('object')\n",
    "    \n",
    "    if not models == [] :\n",
    "        xml_file = filePath\n",
    "        tree = ET.parse(xml_file)\n",
    "        root = tree.getroot()\n",
    "        name_tag = root.findtext(\"filename\")\n",
    "        origin = './im/'+str(name_tag)\n",
    "        output = output_root+weather+str(i+13415)+'.png'\n",
    "        shutil.copy(origin, output)\n",
    "        \n",
    "        origin_xml = './annotation/'+file_list_sorted[i]\n",
    "        output_xml = output_root+weather+str(i+13415)+'.xml'\n",
    "        shutil.copy(origin_xml, output_xml) "
   ]
  }
 ],
 "metadata": {
  "kernelspec": {
   "display_name": "Python 3 (ipykernel)",
   "language": "python",
   "name": "python3"
  },
  "language_info": {
   "codemirror_mode": {
    "name": "ipython",
    "version": 3
   },
   "file_extension": ".py",
   "mimetype": "text/x-python",
   "name": "python",
   "nbconvert_exporter": "python",
   "pygments_lexer": "ipython3",
   "version": "3.9.13"
  }
 },
 "nbformat": 4,
 "nbformat_minor": 5
}
