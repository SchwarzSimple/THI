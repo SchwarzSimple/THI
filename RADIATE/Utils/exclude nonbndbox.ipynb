{
 "cells": [
  {
   "cell_type": "code",
   "execution_count": 5,
   "id": "493d1a25",
   "metadata": {},
   "outputs": [],
   "source": [
    "import os\n",
    "from os import path\n",
    "import shutil\n",
    "import xml.etree.ElementTree as ET\n",
    "from xml.etree.ElementTree import Element, dump, ElementTree\n",
    "import natsort\n",
    "from xml.dom import minidom"
   ]
  },
  {
   "cell_type": "code",
   "execution_count": 14,
   "id": "c3f5e45c",
   "metadata": {},
   "outputs": [
    {
     "name": "stdout",
     "output_type": "stream",
     "text": [
      "['sunny_6.xml', 'sunny_16.xml', 'sunny_48.xml', 'sunny_64.xml', 'sunny_67.xml', 'sunny_73.xml', 'sunny_74.xml', 'sunny_88.xml', 'sunny_111.xml', 'sunny_114.xml', 'sunny_118.xml', 'sunny_148.xml', 'sunny_160.xml', 'sunny_165.xml', 'sunny_174.xml', 'sunny_199.xml', 'sunny_207.xml', 'sunny_214.xml', 'sunny_218.xml', 'sunny_235.xml', 'sunny_247.xml', 'sunny_252.xml', 'sunny_265.xml', 'sunny_283.xml', 'sunny_304.xml', 'sunny_305.xml', 'sunny_326.xml', 'sunny_340.xml', 'sunny_342.xml', 'sunny_360.xml', 'sunny_380.xml', 'sunny_385.xml', 'sunny_400.xml', 'sunny_403.xml', 'sunny_405.xml', 'sunny_414.xml', 'sunny_420.xml', 'sunny_450.xml', 'sunny_465.xml', 'sunny_466.xml', 'sunny_468.xml', 'sunny_482.xml', 'sunny_491.xml', 'sunny_493.xml', 'sunny_508.xml', 'sunny_511.xml', 'sunny_528.xml', 'sunny_533.xml', 'sunny_553.xml', 'sunny_561.xml', 'sunny_567.xml', 'sunny_577.xml', 'sunny_583.xml', 'sunny_590.xml', 'sunny_598.xml', 'sunny_601.xml', 'sunny_606.xml', 'sunny_608.xml', 'sunny_638.xml', 'sunny_644.xml', 'sunny_663.xml', 'sunny_672.xml', 'sunny_676.xml', 'sunny_685.xml', 'sunny_706.xml', 'sunny_713.xml', 'sunny_719.xml', 'sunny_731.xml', 'sunny_738.xml', 'sunny_745.xml', 'sunny_772.xml', 'sunny_793.xml', 'sunny_800.xml', 'sunny_804.xml', 'sunny_823.xml', 'sunny_827.xml', 'sunny_830.xml', 'sunny_837.xml', 'sunny_843.xml', 'sunny_853.xml', 'sunny_897.xml', 'sunny_921.xml', 'sunny_930.xml', 'sunny_933.xml', 'sunny_952.xml', 'sunny_956.xml', 'sunny_975.xml', 'sunny_976.xml', 'sunny_988.xml', 'sunny_991.xml', 'sunny_1002.xml', 'sunny_1005.xml', 'sunny_1012.xml', 'sunny_1022.xml', 'sunny_1041.xml', 'sunny_1044.xml', 'sunny_1046.xml', 'sunny_1061.xml', 'sunny_1072.xml', 'sunny_1075.xml', 'sunny_1089.xml', 'sunny_1096.xml', 'sunny_1098.xml', 'sunny_1099.xml', 'sunny_1113.xml', 'sunny_1116.xml', 'sunny_1124.xml', 'sunny_1139.xml', 'sunny_1148.xml', 'sunny_1181.xml', 'sunny_1188.xml', 'sunny_1200.xml', 'sunny_1201.xml', 'sunny_1205.xml', 'sunny_1206.xml', 'sunny_1225.xml', 'sunny_1227.xml', 'sunny_1229.xml', 'sunny_1254.xml', 'sunny_1255.xml', 'sunny_1262.xml', 'sunny_1268.xml', 'sunny_1269.xml', 'sunny_1279.xml', 'sunny_1300.xml', 'sunny_1321.xml', 'sunny_1325.xml', 'sunny_1326.xml', 'sunny_1327.xml', 'sunny_1331.xml', 'sunny_1340.xml', 'sunny_1367.xml', 'sunny_1368.xml', 'sunny_1379.xml', 'sunny_1382.xml', 'sunny_1389.xml', 'sunny_1395.xml', 'sunny_1398.xml', 'sunny_1404.xml', 'sunny_1445.xml', 'sunny_1453.xml', 'sunny_1469.xml', 'sunny_1473.xml', 'sunny_1474.xml', 'sunny_1499.xml', 'sunny_1512.xml', 'sunny_1530.xml', 'sunny_1532.xml', 'sunny_1536.xml', 'sunny_1555.xml', 'sunny_1558.xml', 'sunny_1560.xml', 'sunny_1562.xml', 'sunny_1566.xml', 'sunny_1572.xml', 'sunny_1580.xml', 'sunny_1600.xml', 'sunny_1621.xml', 'sunny_1638.xml', 'sunny_1656.xml', 'sunny_1658.xml', 'sunny_1674.xml', 'sunny_1675.xml', 'sunny_1682.xml', 'sunny_1684.xml', 'sunny_1695.xml', 'sunny_1697.xml', 'sunny_1732.xml', 'sunny_1733.xml', 'sunny_1752.xml', 'sunny_1763.xml', 'sunny_1784.xml', 'sunny_1794.xml', 'sunny_1795.xml', 'sunny_1797.xml', 'sunny_1816.xml', 'sunny_1818.xml', 'sunny_1821.xml', 'sunny_1839.xml', 'sunny_1843.xml', 'sunny_1851.xml', 'sunny_1854.xml', 'sunny_1859.xml', 'sunny_1862.xml', 'sunny_1872.xml', 'sunny_1891.xml', 'sunny_1909.xml', 'sunny_1920.xml', 'sunny_1925.xml', 'sunny_1936.xml', 'sunny_1941.xml', 'sunny_1944.xml', 'sunny_1962.xml', 'sunny_1965.xml', 'sunny_1976.xml', 'sunny_1981.xml', 'sunny_1989.xml', 'sunny_1996.xml', 'sunny_2032.xml', 'sunny_2035.xml', 'sunny_2038.xml', 'sunny_2050.xml', 'sunny_2052.xml', 'sunny_2055.xml', 'sunny_2089.xml', 'sunny_2094.xml', 'sunny_2100.xml', 'sunny_2113.xml', 'sunny_2116.xml', 'sunny_2123.xml', 'sunny_2132.xml', 'sunny_2141.xml', 'sunny_2153.xml', 'sunny_2166.xml', 'sunny_2168.xml', 'sunny_2182.xml', 'sunny_2186.xml', 'sunny_2187.xml', 'sunny_2192.xml', 'sunny_2199.xml', 'sunny_2216.xml', 'sunny_2245.xml', 'sunny_2246.xml', 'sunny_2251.xml', 'sunny_2252.xml', 'sunny_2263.xml', 'sunny_2264.xml', 'sunny_2277.xml', 'sunny_2288.xml', 'sunny_2294.xml', 'sunny_2326.xml', 'sunny_2327.xml', 'sunny_2336.xml', 'sunny_2367.xml', 'sunny_2368.xml', 'sunny_2374.xml', 'sunny_2377.xml', 'sunny_2382.xml', 'sunny_2417.xml', 'sunny_2421.xml', 'sunny_2425.xml', 'sunny_2428.xml', 'sunny_2448.xml', 'sunny_2453.xml', 'sunny_2456.xml', 'sunny_2461.xml', 'sunny_2469.xml', 'sunny_2480.xml', 'sunny_2482.xml', 'sunny_2500.xml', 'sunny_2504.xml', 'sunny_2525.xml', 'sunny_2538.xml', 'sunny_2548.xml', 'sunny_2552.xml', 'sunny_2554.xml', 'sunny_2559.xml', 'sunny_2565.xml', 'sunny_2576.xml', 'sunny_2598.xml', 'sunny_2605.xml', 'sunny_2608.xml', 'sunny_2609.xml', 'sunny_2613.xml', 'sunny_2646.xml', 'sunny_2661.xml', 'sunny_2668.xml', 'sunny_2678.xml', 'sunny_2680.xml', 'sunny_2686.xml', 'sunny_2691.xml', 'sunny_2739.xml', 'sunny_2742.xml', 'sunny_2758.xml', 'sunny_2783.xml', 'sunny_2790.xml', 'sunny_2802.xml', 'sunny_2806.xml', 'sunny_2829.xml', 'sunny_2836.xml', 'sunny_2846.xml', 'sunny_2882.xml', 'sunny_2884.xml', 'sunny_2891.xml', 'sunny_2898.xml', 'sunny_2905.xml', 'sunny_2906.xml', 'sunny_2925.xml', 'sunny_2926.xml', 'sunny_2928.xml', 'sunny_2929.xml', 'sunny_2933.xml', 'sunny_2947.xml', 'sunny_2953.xml', 'sunny_2961.xml', 'sunny_2972.xml', 'sunny_2974.xml', 'sunny_2983.xml']\n"
     ]
    }
   ],
   "source": [
    "file_root = './data/anno'\n",
    "file_list = os.listdir(file_root)\n",
    "file_list_sorted = natsort.natsorted(file_list)\n",
    "print(file_list_sorted)"
   ]
  },
  {
   "cell_type": "code",
   "execution_count": 15,
   "id": "a2aa6075",
   "metadata": {},
   "outputs": [],
   "source": [
    "copy = './output'\n",
    "\n",
    "for i in range(len(file_list_sorted)):\n",
    "    filePath = './data/anno/'+file_list_sorted[i]\n",
    "    file = minidom.parse(filePath)\n",
    "    models = file.getElementsByTagName('object')\n",
    "    \n",
    "    if not models == [] :\n",
    "        xml_file = filePath\n",
    "        tree = ET.parse(xml_file)\n",
    "        root = tree.getroot()\n",
    "        name_tag = root.findtext(\"filename\")\n",
    "        origin = './data/img/'+str(name_tag)\n",
    "        shutil.copy(origin, copy)\n",
    "        origin_xml = './data/anno/'+file_list_sorted[i]\n",
    "        shutil.copy(origin_xml, copy) "
   ]
  },
  {
   "cell_type": "code",
   "execution_count": null,
   "id": "6a61f308",
   "metadata": {},
   "outputs": [],
   "source": []
  }
 ],
 "metadata": {
  "kernelspec": {
   "display_name": "Python 3 (ipykernel)",
   "language": "python",
   "name": "python3"
  },
  "language_info": {
   "codemirror_mode": {
    "name": "ipython",
    "version": 3
   },
   "file_extension": ".py",
   "mimetype": "text/x-python",
   "name": "python",
   "nbconvert_exporter": "python",
   "pygments_lexer": "ipython3",
   "version": "3.9.13"
  }
 },
 "nbformat": 4,
 "nbformat_minor": 5
}
