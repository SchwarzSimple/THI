{
 "cells": [
  {
   "cell_type": "code",
   "execution_count": 14,
   "id": "52705216",
   "metadata": {},
   "outputs": [],
   "source": [
    "import os\n",
    "import json\n",
    "import numpy as np\n",
    "from xml.etree.ElementTree import Element, SubElement, ElementTree, dump, parse"
   ]
  },
  {
   "cell_type": "code",
   "execution_count": 15,
   "id": "943a9790",
   "metadata": {},
   "outputs": [],
   "source": [
    "folder = os.listdir('./data')\n",
    "number_of_files = len(folder)\n",
    "\n",
    "for i in range (number_of_files):\n",
    "    tree = parse('./data/'+str(folder[i]))\n",
    "    root = tree.getroot()\n",
    "    \n",
    "    if 'fog' in str(folder[i]):\n",
    "        weather = 'fog'\n",
    "    elif 'night' in str(folder[i]):\n",
    "        weather = 'night'\n",
    "    elif 'rain' in str(folder[i]):\n",
    "        weather = 'rain'       \n",
    "    elif 'sunny' in str(folder[i]):\n",
    "        weather = 'sunny'\n",
    "    \n",
    "    head = SubElement(root, \"weather\").text = weather\n",
    "\n",
    "    tree.write('./output/'+str(folder[i]))"
   ]
  },
  {
   "cell_type": "code",
   "execution_count": null,
   "id": "3f9df0c3",
   "metadata": {},
   "outputs": [],
   "source": []
  }
 ],
 "metadata": {
  "kernelspec": {
   "display_name": "Python 3 (ipykernel)",
   "language": "python",
   "name": "python3"
  },
  "language_info": {
   "codemirror_mode": {
    "name": "ipython",
    "version": 3
   },
   "file_extension": ".py",
   "mimetype": "text/x-python",
   "name": "python",
   "nbconvert_exporter": "python",
   "pygments_lexer": "ipython3",
   "version": "3.9.13"
  }
 },
 "nbformat": 4,
 "nbformat_minor": 5
}
