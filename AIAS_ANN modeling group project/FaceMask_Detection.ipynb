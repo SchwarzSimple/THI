{
 "cells": [
  {
   "cell_type": "code",
   "execution_count": 1,
   "id": "04ae4dda",
   "metadata": {},
   "outputs": [
    {
     "name": "stdout",
     "output_type": "stream",
     "text": [
      "There are 1 GPU(s) available.\n",
      "We will use the GPU: NVIDIA GeForce RTX 3060 Laptop GPU\n"
     ]
    }
   ],
   "source": [
    "import torch\n",
    "\n",
    "if torch.cuda.is_available():    \n",
    "    device = torch.device(\"cuda\")\n",
    "    print('There are %d GPU(s) available.' % torch.cuda.device_count())\n",
    "    print('We will use the GPU:', torch.cuda.get_device_name(0))\n",
    "\n",
    "else:\n",
    "    print('No GPU available, using the CPU instead.')\n",
    "    device = torch.device(\"cpu\")"
   ]
  },
  {
   "cell_type": "code",
   "execution_count": 2,
   "id": "b181d933",
   "metadata": {},
   "outputs": [],
   "source": [
    "import torch\n",
    "import torch.nn as nn\n",
    "import torch.optim as optim\n",
    "import torch.utils.data\n",
    "import torch.nn.functional as F\n",
    "import torchvision\n",
    "from torchvision import transforms\n",
    "from PIL import Image, ImageFile\n",
    "import numpy as np"
   ]
  },
  {
   "cell_type": "code",
   "execution_count": 3,
   "id": "5bfa5673",
   "metadata": {},
   "outputs": [],
   "source": [
    "train_data_path = \"/home/aimotion/Desktop/Radiate/AIAS/Face Mask Dataset/Train\"\n",
    "val_data_path = \"/home/aimotion/Desktop/Radiate/AIAS/Face Mask Dataset/Validation\"\n",
    "test_data_path = \"/home/aimotion/Desktop/Radiate/AIAS/Face Mask Dataset/Test\""
   ]
  },
  {
   "cell_type": "code",
   "execution_count": 4,
   "id": "a3341639",
   "metadata": {},
   "outputs": [],
   "source": [
    "transform_train= torchvision.transforms.Compose([\n",
    "    torchvision.transforms.Resize((64, 64)),\n",
    "    torchvision.transforms.ToTensor(),\n",
    "    transforms.Normalize(mean=[0.56850857, 0.46480802, 0.416202],\n",
    "                    std=[0.23890273, 0.21876465, 0.21460944] )\n",
    "])\n",
    "train_data = torchvision.datasets.ImageFolder(root=train_data_path, transform=transform_train)"
   ]
  },
  {
   "cell_type": "code",
   "execution_count": 5,
   "id": "2bf89871",
   "metadata": {},
   "outputs": [],
   "source": [
    "transform_val = torchvision.transforms.Compose([\n",
    "    torchvision.transforms.Resize((64,64)),\n",
    "    torchvision.transforms.ToTensor(),\n",
    "    transforms.Normalize(mean=[0.5719676, 0.46902835, 0.4208306],\n",
    "                    std=[0.23954803, 0.22196493, 0.21919987] )\n",
    "])\n",
    "\n",
    "val_data = torchvision.datasets.ImageFolder(root=val_data_path, transform=transform_val)"
   ]
  },
  {
   "cell_type": "code",
   "execution_count": 6,
   "id": "57c81d52",
   "metadata": {},
   "outputs": [],
   "source": [
    "transform_test = torchvision.transforms.Compose([\n",
    "    torchvision.transforms.Resize((64,64)),\n",
    "    torchvision.transforms.ToTensor(),\n",
    "    transforms.Normalize(mean=[0.5714287, 0.46706372, 0.41802087],\n",
    "                    std=[0.23954803, 0.21817042, 0.21488766] )\n",
    "])\n",
    "\n",
    "test_data = torchvision.datasets.ImageFolder(root=test_data_path, transform=transform_val)"
   ]
  },
  {
   "cell_type": "code",
   "execution_count": 7,
   "id": "3edc470a",
   "metadata": {},
   "outputs": [],
   "source": [
    "batch_size=128"
   ]
  },
  {
   "cell_type": "code",
   "execution_count": 8,
   "id": "408dbba7",
   "metadata": {},
   "outputs": [],
   "source": [
    "train_data_loader = torch.utils.data.DataLoader(train_data, batch_size=batch_size)\n",
    "val_data_loader  = torch.utils.data.DataLoader(val_data, batch_size=batch_size) \n",
    "test_data_loader  = torch.utils.data.DataLoader(test_data, batch_size=batch_size) "
   ]
  },
  {
   "cell_type": "code",
   "execution_count": 9,
   "id": "8999853d",
   "metadata": {},
   "outputs": [
    {
     "name": "stdout",
     "output_type": "stream",
     "text": [
      "Number of training examples: 10000\n",
      "Number of validation examples: 800\n",
      "Number of test examples: 992\n"
     ]
    }
   ],
   "source": [
    "print(f'Number of training examples: {len(train_data)}')\n",
    "print(f'Number of validation examples: {len(val_data)}')\n",
    "print(f'Number of test examples: {len(test_data)}')"
   ]
  },
  {
   "cell_type": "code",
   "execution_count": 10,
   "id": "dbd3edfc",
   "metadata": {},
   "outputs": [],
   "source": [
    "class SimpleNet(nn.Module):\n",
    "\n",
    "    def __init__(self):\n",
    "        super(SimpleNet, self).__init__() # 1 input layer, 2 hidden layers, 1 ouput layer \n",
    "        self.fc1 = nn.Linear(12288, 84)   # Linear means fully connected layer. 12288 is the number of input from 64*64*3(RGB)  \n",
    "        self.fc2 = nn.Linear(84, 50)\n",
    "        self.fc3 = nn.Linear(50,2)   #2 is the number of ouput because we have two ouputs (With mask / Without mask)\n",
    "    \n",
    "    def forward(self, x):\n",
    "        x = x.view(-1, 12288) # view() : Convert 3D tensor in to 1D tensor\n",
    "        x = F.relu(self.fc1(x)) #For hidden layers, the ReLu function is common\n",
    "        x = F.relu(self.fc2(x))\n",
    "        x = self.fc3(x)\n",
    "        return x"
   ]
  },
  {
   "cell_type": "code",
   "execution_count": 11,
   "id": "d5f6acf6",
   "metadata": {},
   "outputs": [],
   "source": [
    "simplenet = SimpleNet()"
   ]
  },
  {
   "cell_type": "code",
   "execution_count": 12,
   "id": "14f21b61",
   "metadata": {},
   "outputs": [],
   "source": [
    "optimizer = optim.Adam(simplenet.parameters(), lr=0.001)\n",
    "#Adam is used as an optimizer, which uses a learning rate per parameter, and adapts that learning rate depending on the rate of change of those parameters.\n",
    "#lr is a learning rate"
   ]
  },
  {
   "cell_type": "code",
   "execution_count": 13,
   "id": "6006ff02",
   "metadata": {},
   "outputs": [
    {
     "data": {
      "text/plain": [
       "SimpleNet(\n",
       "  (fc1): Linear(in_features=12288, out_features=84, bias=True)\n",
       "  (fc2): Linear(in_features=84, out_features=50, bias=True)\n",
       "  (fc3): Linear(in_features=50, out_features=2, bias=True)\n",
       ")"
      ]
     },
     "execution_count": 13,
     "metadata": {},
     "output_type": "execute_result"
    }
   ],
   "source": [
    "if torch.cuda.is_available():\n",
    "    device = torch.device(\"cuda\") \n",
    "else:\n",
    "    device = torch.device(\"cpu\")\n",
    "\n",
    "simplenet.to(device)"
   ]
  },
  {
   "cell_type": "code",
   "execution_count": 14,
   "id": "8e33c042",
   "metadata": {},
   "outputs": [],
   "source": [
    "def train(model, optimizer, loss_fn, train_loader, val_loader, epochs, device):\n",
    "    for epoch in range(1, epochs+1):\n",
    "        training_loss = 0.0\n",
    "        valid_loss = 0.0\n",
    "        model.train()\n",
    "        num_correct_train = 0 #\n",
    "        num_examples_train = 0 #\n",
    "        for batch in train_loader:\n",
    "            optimizer.zero_grad() #It is used to make sure the gradients are reset to zero after we’re done with the loop.\n",
    "            inputs, targets = batch #About batch\n",
    "            inputs = inputs.to(device)\n",
    "            targets = targets.to(device)\n",
    "            output = model(inputs)\n",
    "            loss = loss_fn(output, targets) #Loss function\n",
    "            loss.backward() #Back propagation\n",
    "            optimizer.step() #Optimizer\n",
    "            training_loss += loss.data.item() * inputs.size(0)\n",
    "            correct = torch.eq(torch.max(F.softmax(output, dim=1), dim=1)[1], targets) #\n",
    "            num_correct_train += torch.sum(correct).item() #\n",
    "            num_examples_train += correct.shape[0] #\n",
    "        training_loss /= len(train_loader.dataset)\n",
    "\n",
    "        model.eval()\n",
    "        num_correct = 0 \n",
    "        num_examples = 0\n",
    "        for batch in val_loader:\n",
    "            inputs, targets = batch\n",
    "            inputs = inputs.to(device)\n",
    "            output = model(inputs)\n",
    "            targets = targets.to(device)\n",
    "            loss = loss_fn(output,targets) \n",
    "            valid_loss += loss.data.item() * inputs.size(0)\n",
    "            correct = torch.eq(torch.max(F.softmax(output, dim=1), dim=1)[1], targets) #For the ouput layer : The softemax function and the sigmoid function are common\n",
    "            num_correct += torch.sum(correct).item()\n",
    "            num_examples += correct.shape[0]\n",
    "        valid_loss /= len(val_loader.dataset)\n",
    "        \n",
    "        print('Epoch: {}, Training Loss: {:.2f}, Validation Loss: {:.2f}, Training accuracy = {:.2f}, Validation accuracy = {:.2f}'.format(epoch, training_loss,\n",
    "        valid_loss, num_correct_train / num_examples_train ,num_correct / num_examples))"
   ]
  },
  {
   "cell_type": "code",
   "execution_count": 15,
   "id": "f604209e",
   "metadata": {},
   "outputs": [
    {
     "name": "stdout",
     "output_type": "stream",
     "text": [
      "Epoch: 1, Training Loss: 2.42, Validation Loss: 19.34, Training accuracy = 0.90, Validation accuracy = 0.50\n",
      "Epoch: 2, Training Loss: 3.40, Validation Loss: 7.55, Training accuracy = 0.78, Validation accuracy = 0.52\n",
      "Epoch: 3, Training Loss: 1.64, Validation Loss: 1.82, Training accuracy = 0.71, Validation accuracy = 0.56\n",
      "Epoch: 4, Training Loss: 0.61, Validation Loss: 0.59, Training accuracy = 0.79, Validation accuracy = 0.73\n",
      "Epoch: 5, Training Loss: 0.40, Validation Loss: 0.52, Training accuracy = 0.83, Validation accuracy = 0.82\n",
      "Epoch: 6, Training Loss: 0.31, Validation Loss: 0.47, Training accuracy = 0.88, Validation accuracy = 0.83\n",
      "Epoch: 7, Training Loss: 0.27, Validation Loss: 0.42, Training accuracy = 0.90, Validation accuracy = 0.85\n",
      "Epoch: 8, Training Loss: 0.25, Validation Loss: 0.36, Training accuracy = 0.91, Validation accuracy = 0.87\n",
      "Epoch: 9, Training Loss: 0.20, Validation Loss: 0.34, Training accuracy = 0.92, Validation accuracy = 0.90\n",
      "Epoch: 10, Training Loss: 0.19, Validation Loss: 0.32, Training accuracy = 0.93, Validation accuracy = 0.90\n",
      "Epoch: 11, Training Loss: 0.17, Validation Loss: 0.27, Training accuracy = 0.94, Validation accuracy = 0.91\n",
      "Epoch: 12, Training Loss: 0.15, Validation Loss: 0.22, Training accuracy = 0.95, Validation accuracy = 0.92\n",
      "Epoch: 13, Training Loss: 0.13, Validation Loss: 0.20, Training accuracy = 0.95, Validation accuracy = 0.93\n",
      "Epoch: 14, Training Loss: 0.12, Validation Loss: 0.17, Training accuracy = 0.96, Validation accuracy = 0.93\n",
      "Epoch: 15, Training Loss: 0.10, Validation Loss: 0.16, Training accuracy = 0.97, Validation accuracy = 0.94\n",
      "Epoch: 16, Training Loss: 0.09, Validation Loss: 0.14, Training accuracy = 0.97, Validation accuracy = 0.94\n",
      "Epoch: 17, Training Loss: 0.08, Validation Loss: 0.14, Training accuracy = 0.97, Validation accuracy = 0.94\n",
      "Epoch: 18, Training Loss: 0.07, Validation Loss: 0.14, Training accuracy = 0.98, Validation accuracy = 0.95\n",
      "Epoch: 19, Training Loss: 0.06, Validation Loss: 0.12, Training accuracy = 0.98, Validation accuracy = 0.96\n",
      "Epoch: 20, Training Loss: 0.06, Validation Loss: 0.12, Training accuracy = 0.98, Validation accuracy = 0.96\n",
      "Epoch: 21, Training Loss: 0.05, Validation Loss: 0.11, Training accuracy = 0.98, Validation accuracy = 0.96\n",
      "Epoch: 22, Training Loss: 0.04, Validation Loss: 0.11, Training accuracy = 0.99, Validation accuracy = 0.96\n",
      "Epoch: 23, Training Loss: 0.04, Validation Loss: 0.10, Training accuracy = 0.99, Validation accuracy = 0.96\n",
      "Epoch: 24, Training Loss: 0.04, Validation Loss: 0.10, Training accuracy = 0.99, Validation accuracy = 0.97\n",
      "Epoch: 25, Training Loss: 0.03, Validation Loss: 0.11, Training accuracy = 0.99, Validation accuracy = 0.96\n",
      "Epoch: 26, Training Loss: 0.03, Validation Loss: 0.10, Training accuracy = 0.99, Validation accuracy = 0.97\n",
      "Epoch: 27, Training Loss: 0.03, Validation Loss: 0.10, Training accuracy = 0.99, Validation accuracy = 0.97\n",
      "Epoch: 28, Training Loss: 0.02, Validation Loss: 0.09, Training accuracy = 0.99, Validation accuracy = 0.97\n",
      "Epoch: 29, Training Loss: 0.02, Validation Loss: 0.09, Training accuracy = 0.99, Validation accuracy = 0.97\n",
      "Epoch: 30, Training Loss: 0.02, Validation Loss: 0.09, Training accuracy = 0.99, Validation accuracy = 0.97\n"
     ]
    }
   ],
   "source": [
    "train(simplenet, optimizer,torch.nn.CrossEntropyLoss(), train_data_loader,val_data_loader, epochs=30, device=device)\n",
    "#CrossEntropy is used as a loss function"
   ]
  },
  {
   "cell_type": "code",
   "execution_count": 19,
   "id": "f178f17a",
   "metadata": {},
   "outputs": [
    {
     "data": {
      "image/png": "[encoded data removed]",
      "text/plain": [
       "<Figure size 432x288 with 1 Axes>"
      ]
     },
     "metadata": {
      "needs_background": "light"
     },
     "output_type": "display_data"
    }
   ],
   "source": [
    "import matplotlib.pyplot as plt\n",
    "import numpy as np\n",
    "\n",
    "epoch = np.arange(1, 31, 1)\n",
    "\n",
    "plt.plot(epoch, training_loss,'-o')\n",
    "plt.plot(valid_loss,'-o')\n",
    "plt.xlabel('epoch')\n",
    "plt.ylabel('loss')\n",
    "plt.legend(['Train','Valid'])\n",
    "plt.title('Loss')\n",
    " \n",
    "plt.show()"
   ]
  },
  {
   "cell_type": "code",
   "execution_count": 20,
   "id": "e16aa269",
   "metadata": {},
   "outputs": [
    {
     "data": {
      "image/png": "[encoded data removed]",
      "text/plain": [
       "<Figure size 432x288 with 1 Axes>"
      ]
     },
     "metadata": {
      "needs_background": "light"
     },
     "output_type": "display_data"
    }
   ],
   "source": [
    "plt.plot(train_acc,'-o')\n",
    "plt.plot(valid_acc,'-o')\n",
    "plt.xlabel('epoch')\n",
    "plt.ylabel('accuracy')\n",
    "plt.legend(['Train','Valid'])\n",
    "plt.title('Accuracy')\n",
    " \n",
    "plt.show()"
   ]
  },
  {
   "cell_type": "code",
   "execution_count": 29,
   "id": "9d32dc0e",
   "metadata": {},
   "outputs": [],
   "source": [
    "def test(model, test_loader, device):\n",
    "    \n",
    "    num_correct = 0 \n",
    "    num_examples = 0\n",
    "    batch = 992\n",
    "    for batch in test_loader:\n",
    "        inputs, targets = batch\n",
    "        inputs = inputs.to(device)\n",
    "        output = model(inputs)\n",
    "        targets = targets.to(device)\n",
    "        correct = torch.eq(torch.max(F.softmax(output, dim=1), dim=1)[1], targets)\n",
    "        num_correct += torch.sum(correct).item()\n",
    "        num_examples += correct.shape[0]\n",
    "        \n",
    "        print('Accuracy = {:.2f}'.format(num_correct / num_examples))"
   ]
  },
  {
   "cell_type": "code",
   "execution_count": 30,
   "id": "17d9572e",
   "metadata": {},
   "outputs": [
    {
     "name": "stdout",
     "output_type": "stream",
     "text": [
      "Accuracy = 0.86\n",
      "Accuracy = 0.92\n",
      "Accuracy = 0.93\n",
      "Accuracy = 0.93\n",
      "Accuracy = 0.94\n",
      "Accuracy = 0.95\n",
      "Accuracy = 0.96\n",
      "Accuracy = 0.96\n"
     ]
    }
   ],
   "source": [
    "test(simplenet, test_data_loader, device=device)"
   ]
  },
  {
   "cell_type": "code",
   "execution_count": null,
   "id": "16f1d883",
   "metadata": {},
   "outputs": [],
   "source": []
  }
 ],
 "metadata": {
  "kernelspec": {
   "display_name": "Python 3 (ipykernel)",
   "language": "python",
   "name": "python3"
  },
  "language_info": {
   "codemirror_mode": {
    "name": "ipython",
    "version": 3
   },
   "file_extension": ".py",
   "mimetype": "text/x-python",
   "name": "python",
   "nbconvert_exporter": "python",
   "pygments_lexer": "ipython3",
   "version": "3.9.13"
  }
 },
 "nbformat": 4,
 "nbformat_minor": 5
}
