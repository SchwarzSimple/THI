{
 "cells": [
  {
   "cell_type": "code",
   "execution_count": 2,
   "id": "315ce035",
   "metadata": {},
   "outputs": [
    {
     "name": "stderr",
     "output_type": "stream",
     "text": [
      "Copying files: 2565 files [00:16, 152.39 files/s]\n"
     ]
    }
   ],
   "source": [
    "import splitfolders\n",
    "\n",
    "folder_in = \"/home/aimotion/Desktop/Radiate/data/xml_data_camera/camera_xml\"\n",
    "folder_out = \"/home/aimotion/Desktop/Radiate/data/xml_data_camera/output\"\n",
    "\n",
    "splitfolders.ratio(folder_in,folder_out, seed=1337, ratio=(.8, .1, .1), group_prefix=2)"
   ]
  },
  {
   "cell_type": "code",
   "execution_count": null,
   "id": "68296f33",
   "metadata": {},
   "outputs": [],
   "source": []
  }
 ],
 "metadata": {
  "kernelspec": {
   "display_name": "Python 3 (ipykernel)",
   "language": "python",
   "name": "python3"
  },
  "language_info": {
   "codemirror_mode": {
    "name": "ipython",
    "version": 3
   },
   "file_extension": ".py",
   "mimetype": "text/x-python",
   "name": "python",
   "nbconvert_exporter": "python",
   "pygments_lexer": "ipython3",
   "version": "3.9.13"
  }
 },
 "nbformat": 4,
 "nbformat_minor": 5
}
