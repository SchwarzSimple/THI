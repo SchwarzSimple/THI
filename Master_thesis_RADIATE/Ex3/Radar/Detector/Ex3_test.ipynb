{
 "cells": [
  {
   "cell_type": "code",
   "execution_count": 2,
   "id": "e4203ae1",
   "metadata": {},
   "outputs": [
    {
     "data": {
      "text/plain": [
       "ResNet(\n",
       "  (conv1): Conv2d(3, 64, kernel_size=(7, 7), stride=(2, 2), padding=(3, 3), bias=False)\n",
       "  (bn1): BatchNorm2d(64, eps=1e-05, momentum=0.1, affine=True, track_running_stats=True)\n",
       "  (relu): ReLU(inplace=True)\n",
       "  (maxpool): MaxPool2d(kernel_size=3, stride=2, padding=1, dilation=1, ceil_mode=False)\n",
       "  (layer1): Sequential(\n",
       "    (0): BasicBlock(\n",
       "      (conv1): Conv2d(64, 64, kernel_size=(3, 3), stride=(1, 1), padding=(1, 1), bias=False)\n",
       "      (bn1): BatchNorm2d(64, eps=1e-05, momentum=0.1, affine=True, track_running_stats=True)\n",
       "      (relu): ReLU(inplace=True)\n",
       "      (conv2): Conv2d(64, 64, kernel_size=(3, 3), stride=(1, 1), padding=(1, 1), bias=False)\n",
       "      (bn2): BatchNorm2d(64, eps=1e-05, momentum=0.1, affine=True, track_running_stats=True)\n",
       "    )\n",
       "    (1): BasicBlock(\n",
       "      (conv1): Conv2d(64, 64, kernel_size=(3, 3), stride=(1, 1), padding=(1, 1), bias=False)\n",
       "      (bn1): BatchNorm2d(64, eps=1e-05, momentum=0.1, affine=True, track_running_stats=True)\n",
       "      (relu): ReLU(inplace=True)\n",
       "      (conv2): Conv2d(64, 64, kernel_size=(3, 3), stride=(1, 1), padding=(1, 1), bias=False)\n",
       "      (bn2): BatchNorm2d(64, eps=1e-05, momentum=0.1, affine=True, track_running_stats=True)\n",
       "    )\n",
       "  )\n",
       "  (layer2): Sequential(\n",
       "    (0): BasicBlock(\n",
       "      (conv1): Conv2d(64, 128, kernel_size=(3, 3), stride=(2, 2), padding=(1, 1), bias=False)\n",
       "      (bn1): BatchNorm2d(128, eps=1e-05, momentum=0.1, affine=True, track_running_stats=True)\n",
       "      (relu): ReLU(inplace=True)\n",
       "      (conv2): Conv2d(128, 128, kernel_size=(3, 3), stride=(1, 1), padding=(1, 1), bias=False)\n",
       "      (bn2): BatchNorm2d(128, eps=1e-05, momentum=0.1, affine=True, track_running_stats=True)\n",
       "      (downsample): Sequential(\n",
       "        (0): Conv2d(64, 128, kernel_size=(1, 1), stride=(2, 2), bias=False)\n",
       "        (1): BatchNorm2d(128, eps=1e-05, momentum=0.1, affine=True, track_running_stats=True)\n",
       "      )\n",
       "    )\n",
       "    (1): BasicBlock(\n",
       "      (conv1): Conv2d(128, 128, kernel_size=(3, 3), stride=(1, 1), padding=(1, 1), bias=False)\n",
       "      (bn1): BatchNorm2d(128, eps=1e-05, momentum=0.1, affine=True, track_running_stats=True)\n",
       "      (relu): ReLU(inplace=True)\n",
       "      (conv2): Conv2d(128, 128, kernel_size=(3, 3), stride=(1, 1), padding=(1, 1), bias=False)\n",
       "      (bn2): BatchNorm2d(128, eps=1e-05, momentum=0.1, affine=True, track_running_stats=True)\n",
       "    )\n",
       "  )\n",
       "  (layer3): Sequential(\n",
       "    (0): BasicBlock(\n",
       "      (conv1): Conv2d(128, 256, kernel_size=(3, 3), stride=(2, 2), padding=(1, 1), bias=False)\n",
       "      (bn1): BatchNorm2d(256, eps=1e-05, momentum=0.1, affine=True, track_running_stats=True)\n",
       "      (relu): ReLU(inplace=True)\n",
       "      (conv2): Conv2d(256, 256, kernel_size=(3, 3), stride=(1, 1), padding=(1, 1), bias=False)\n",
       "      (bn2): BatchNorm2d(256, eps=1e-05, momentum=0.1, affine=True, track_running_stats=True)\n",
       "      (downsample): Sequential(\n",
       "        (0): Conv2d(128, 256, kernel_size=(1, 1), stride=(2, 2), bias=False)\n",
       "        (1): BatchNorm2d(256, eps=1e-05, momentum=0.1, affine=True, track_running_stats=True)\n",
       "      )\n",
       "    )\n",
       "    (1): BasicBlock(\n",
       "      (conv1): Conv2d(256, 256, kernel_size=(3, 3), stride=(1, 1), padding=(1, 1), bias=False)\n",
       "      (bn1): BatchNorm2d(256, eps=1e-05, momentum=0.1, affine=True, track_running_stats=True)\n",
       "      (relu): ReLU(inplace=True)\n",
       "      (conv2): Conv2d(256, 256, kernel_size=(3, 3), stride=(1, 1), padding=(1, 1), bias=False)\n",
       "      (bn2): BatchNorm2d(256, eps=1e-05, momentum=0.1, affine=True, track_running_stats=True)\n",
       "    )\n",
       "  )\n",
       "  (layer4): Sequential(\n",
       "    (0): BasicBlock(\n",
       "      (conv1): Conv2d(256, 512, kernel_size=(3, 3), stride=(2, 2), padding=(1, 1), bias=False)\n",
       "      (bn1): BatchNorm2d(512, eps=1e-05, momentum=0.1, affine=True, track_running_stats=True)\n",
       "      (relu): ReLU(inplace=True)\n",
       "      (conv2): Conv2d(512, 512, kernel_size=(3, 3), stride=(1, 1), padding=(1, 1), bias=False)\n",
       "      (bn2): BatchNorm2d(512, eps=1e-05, momentum=0.1, affine=True, track_running_stats=True)\n",
       "      (downsample): Sequential(\n",
       "        (0): Conv2d(256, 512, kernel_size=(1, 1), stride=(2, 2), bias=False)\n",
       "        (1): BatchNorm2d(512, eps=1e-05, momentum=0.1, affine=True, track_running_stats=True)\n",
       "      )\n",
       "    )\n",
       "    (1): BasicBlock(\n",
       "      (conv1): Conv2d(512, 512, kernel_size=(3, 3), stride=(1, 1), padding=(1, 1), bias=False)\n",
       "      (bn1): BatchNorm2d(512, eps=1e-05, momentum=0.1, affine=True, track_running_stats=True)\n",
       "      (relu): ReLU(inplace=True)\n",
       "      (conv2): Conv2d(512, 512, kernel_size=(3, 3), stride=(1, 1), padding=(1, 1), bias=False)\n",
       "      (bn2): BatchNorm2d(512, eps=1e-05, momentum=0.1, affine=True, track_running_stats=True)\n",
       "    )\n",
       "  )\n",
       "  (avgpool): AdaptiveAvgPool2d(output_size=(1, 1))\n",
       "  (fc): Linear(in_features=512, out_features=4, bias=True)\n",
       ")"
      ]
     },
     "execution_count": 2,
     "metadata": {},
     "output_type": "execute_result"
    }
   ],
   "source": [
    "# Define the classifier\n",
    "cls_model = models.resnet18(pretrained=True)\n",
    "num_classes=4\n",
    "num_ftrs = cls_model.fc.in_features\n",
    "cls_model.fc = nn.Linear(num_ftrs, num_classes)\n",
    "cls_model.to(device)\n",
    "\n",
    "# Load the classifier\n",
    "cls_model.load_state_dict(torch.load('./cls_resnet18.pt'))\n",
    "cls_model.eval()"
   ]
  },
  {
   "cell_type": "code",
   "execution_count": 3,
   "id": "9e6136a3",
   "metadata": {},
   "outputs": [],
   "source": [
    "# Classify test images\n",
    "\n",
    "labels = ['fog', 'night', 'rain', 'sunny']\n",
    "img_path = './dataset/test/test_img/'\n",
    "annot_path = './dataset/test/test_annot/'\n",
    "\n",
    "img_list = os.listdir(img_path)\n",
    "img_list = natsort.natsorted(img_list)\n",
    "\n",
    "fog_folder = './dataset/test/test_img_classified/fog'\n",
    "night_folder = './dataset/test/test_img_classified/night'\n",
    "rain_folder = './dataset/test/test_img_classified/rain'\n",
    "sunny_folder = './dataset/test/test_img_classified/sunny'\n",
    "\n",
    "fog_an_folder = './dataset/test/test_annot_classified/fog'\n",
    "night_an_folder = './dataset/test/test_annot_classified/night'\n",
    "rain_an_folder = './dataset/test/test_annot_classified/rain'\n",
    "sunny_an_folder = './dataset/test/test_annot_classified/sunny'\n",
    "\n",
    "for img in img_list:\n",
    "    img_1 = Image.open(img_path+img).convert(\"RGB\")\n",
    "    img_2 = img_transforms(img_1).to(device)\n",
    "    img_3 = torch.unsqueeze(img_2, 0)\n",
    "    prediction = F.softmax(cls_model(img_3), dim=1)\n",
    "    prediction = prediction.argmax()\n",
    "    prediction_2 = labels[prediction]\n",
    "    \n",
    "    annot = img[:-3]+'xml'\n",
    "    \n",
    "    if prediction_2 == 'fog':\n",
    "        shutil.copy(img_path+img,fog_folder)\n",
    "        shutil.copy(annot_path+annot,fog_an_folder)     \n",
    "    if prediction_2 == 'night':\n",
    "        shutil.copy(img_path+img,night_folder)\n",
    "        shutil.copy(annot_path+annot,night_an_folder)\n",
    "    if prediction_2 == 'rain':\n",
    "        shutil.copy(img_path+img,rain_folder)\n",
    "        shutil.copy(annot_path+annot,rain_an_folder)\n",
    "    if prediction_2 == 'sunny':\n",
    "        shutil.copy(img_path+img,sunny_folder)\n",
    "        shutil.copy(annot_path+annot,sunny_an_folder)"
   ]
  },
  {
   "cell_type": "code",
   "execution_count": 1,
   "id": "d67c9466",
   "metadata": {},
   "outputs": [],
   "source": [
    "%run utils.ipynb"
   ]
  },
  {
   "cell_type": "code",
   "execution_count": 2,
   "id": "e0de4b33",
   "metadata": {},
   "outputs": [],
   "source": [
    "test_dataset_fog = RadarDataset_fog(data_transform, './dataset/test/test_img_classified/fog/')\n",
    "test_data_loader_fog = torch.utils.data.DataLoader(test_dataset_fog, batch_size=1, collate_fn=collate_fn)\n",
    "\n",
    "test_dataset_rain = RadarDataset_rain(data_transform, './dataset/test/test_img_classified/rain/')\n",
    "test_data_loader_rain = torch.utils.data.DataLoader(test_dataset_rain, batch_size=1, collate_fn=collate_fn)\n",
    "\n",
    "test_dataset_sunny = RadarDataset_sunny(data_transform, './dataset/test/test_img_classified/sunny/')\n",
    "test_data_loader_sunny = torch.utils.data.DataLoader(test_dataset_sunny, batch_size=1, collate_fn=collate_fn)\n",
    "\n",
    "test_dataset_night = RadarDataset_night(data_transform, './dataset/test/test_img_classified/night/')\n",
    "test_data_loader_night = torch.utils.data.DataLoader(test_dataset_night, batch_size=1, collate_fn=collate_fn)"
   ]
  },
  {
   "cell_type": "code",
   "execution_count": 3,
   "id": "053aa71d",
   "metadata": {},
   "outputs": [
    {
     "name": "stderr",
     "output_type": "stream",
     "text": [
      "100%|█████████████████████████████████████████| 300/300 [00:23<00:00, 12.69it/s]\n"
     ]
    },
    {
     "name": "stdout",
     "output_type": "stream",
     "text": [
      "Sunny AP : 0.9465870453747041_1\n"
     ]
    },
    {
     "name": "stderr",
     "output_type": "stream",
     "text": [
      "100%|█████████████████████████████████████████| 106/106 [00:08<00:00, 12.88it/s]\n"
     ]
    },
    {
     "name": "stdout",
     "output_type": "stream",
     "text": [
      "Fog AP : 0.8230267165014284_1\n"
     ]
    },
    {
     "name": "stderr",
     "output_type": "stream",
     "text": [
      "100%|█████████████████████████████████████████| 321/321 [00:25<00:00, 12.44it/s]\n"
     ]
    },
    {
     "name": "stdout",
     "output_type": "stream",
     "text": [
      "Rain AP : 0.8067249308499878_1\n"
     ]
    },
    {
     "name": "stderr",
     "output_type": "stream",
     "text": [
      "100%|█████████████████████████████████████████| 296/296 [00:23<00:00, 12.61it/s]\n"
     ]
    },
    {
     "name": "stdout",
     "output_type": "stream",
     "text": [
      "Night AP : 0.8861161860720532_1\n",
      "Total AP : 0.8382978558899703_1\n"
     ]
    },
    {
     "name": "stderr",
     "output_type": "stream",
     "text": [
      "100%|█████████████████████████████████████████| 300/300 [00:23<00:00, 12.87it/s]\n"
     ]
    },
    {
     "name": "stdout",
     "output_type": "stream",
     "text": [
      "Sunny AP : 0.961680219567846_2\n"
     ]
    },
    {
     "name": "stderr",
     "output_type": "stream",
     "text": [
      "100%|█████████████████████████████████████████| 106/106 [00:08<00:00, 12.85it/s]\n"
     ]
    },
    {
     "name": "stdout",
     "output_type": "stream",
     "text": [
      "Fog AP : 0.8262536046236857_2\n"
     ]
    },
    {
     "name": "stderr",
     "output_type": "stream",
     "text": [
      "100%|█████████████████████████████████████████| 321/321 [00:25<00:00, 12.44it/s]\n"
     ]
    },
    {
     "name": "stdout",
     "output_type": "stream",
     "text": [
      "Rain AP : 0.857652620391379_2\n"
     ]
    },
    {
     "name": "stderr",
     "output_type": "stream",
     "text": [
      "100%|█████████████████████████████████████████| 296/296 [00:23<00:00, 12.72it/s]\n"
     ]
    },
    {
     "name": "stdout",
     "output_type": "stream",
     "text": [
      "Night AP : 0.9077789586141221_2\n",
      "Total AP : 0.8762984157637432_2\n"
     ]
    },
    {
     "name": "stderr",
     "output_type": "stream",
     "text": [
      "100%|█████████████████████████████████████████| 300/300 [00:23<00:00, 12.76it/s]\n"
     ]
    },
    {
     "name": "stdout",
     "output_type": "stream",
     "text": [
      "Sunny AP : 0.9623382640575429_3\n"
     ]
    },
    {
     "name": "stderr",
     "output_type": "stream",
     "text": [
      "100%|█████████████████████████████████████████| 106/106 [00:08<00:00, 12.63it/s]\n"
     ]
    },
    {
     "name": "stdout",
     "output_type": "stream",
     "text": [
      "Fog AP : 0.9247028005034323_3\n"
     ]
    },
    {
     "name": "stderr",
     "output_type": "stream",
     "text": [
      "100%|█████████████████████████████████████████| 321/321 [00:25<00:00, 12.37it/s]\n"
     ]
    },
    {
     "name": "stdout",
     "output_type": "stream",
     "text": [
      "Rain AP : 0.8548081729124002_3\n"
     ]
    },
    {
     "name": "stderr",
     "output_type": "stream",
     "text": [
      "100%|█████████████████████████████████████████| 296/296 [00:23<00:00, 12.69it/s]\n"
     ]
    },
    {
     "name": "stdout",
     "output_type": "stream",
     "text": [
      "Night AP : 0.8934098557319103_3\n",
      "Total AP : 0.8799766341684738_3\n"
     ]
    },
    {
     "name": "stderr",
     "output_type": "stream",
     "text": [
      "100%|█████████████████████████████████████████| 300/300 [00:23<00:00, 12.75it/s]\n"
     ]
    },
    {
     "name": "stdout",
     "output_type": "stream",
     "text": [
      "Sunny AP : 0.96174968740781_4\n"
     ]
    },
    {
     "name": "stderr",
     "output_type": "stream",
     "text": [
      "100%|█████████████████████████████████████████| 106/106 [00:08<00:00, 12.66it/s]\n"
     ]
    },
    {
     "name": "stdout",
     "output_type": "stream",
     "text": [
      "Fog AP : 0.9531153550382498_4\n"
     ]
    },
    {
     "name": "stderr",
     "output_type": "stream",
     "text": [
      "100%|█████████████████████████████████████████| 321/321 [00:25<00:00, 12.38it/s]\n"
     ]
    },
    {
     "name": "stdout",
     "output_type": "stream",
     "text": [
      "Rain AP : 0.9038540501661991_4\n"
     ]
    },
    {
     "name": "stderr",
     "output_type": "stream",
     "text": [
      "100%|█████████████████████████████████████████| 296/296 [00:23<00:00, 12.70it/s]\n"
     ]
    },
    {
     "name": "stdout",
     "output_type": "stream",
     "text": [
      "Night AP : 0.9391676648584508_4\n",
      "Total AP : 0.9202133476814938_4\n"
     ]
    },
    {
     "name": "stderr",
     "output_type": "stream",
     "text": [
      "100%|█████████████████████████████████████████| 300/300 [00:23<00:00, 12.71it/s]\n"
     ]
    },
    {
     "name": "stdout",
     "output_type": "stream",
     "text": [
      "Sunny AP : 0.9646868045925174_5\n"
     ]
    },
    {
     "name": "stderr",
     "output_type": "stream",
     "text": [
      "100%|█████████████████████████████████████████| 106/106 [00:08<00:00, 12.67it/s]\n"
     ]
    },
    {
     "name": "stdout",
     "output_type": "stream",
     "text": [
      "Fog AP : 0.9391831288982786_5\n"
     ]
    },
    {
     "name": "stderr",
     "output_type": "stream",
     "text": [
      "100%|█████████████████████████████████████████| 321/321 [00:25<00:00, 12.37it/s]\n"
     ]
    },
    {
     "name": "stdout",
     "output_type": "stream",
     "text": [
      "Rain AP : 0.9201947362070069_5\n"
     ]
    },
    {
     "name": "stderr",
     "output_type": "stream",
     "text": [
      "100%|█████████████████████████████████████████| 296/296 [00:23<00:00, 12.64it/s]\n"
     ]
    },
    {
     "name": "stdout",
     "output_type": "stream",
     "text": [
      "Night AP : 0.9295474530042893_5\n",
      "Total AP : 0.9285297314178209_5\n"
     ]
    },
    {
     "name": "stderr",
     "output_type": "stream",
     "text": [
      "100%|█████████████████████████████████████████| 300/300 [00:23<00:00, 12.71it/s]\n"
     ]
    },
    {
     "name": "stdout",
     "output_type": "stream",
     "text": [
      "Sunny AP : 0.9583564813515224_6\n"
     ]
    },
    {
     "name": "stderr",
     "output_type": "stream",
     "text": [
      "100%|█████████████████████████████████████████| 106/106 [00:08<00:00, 12.58it/s]\n"
     ]
    },
    {
     "name": "stdout",
     "output_type": "stream",
     "text": [
      "Fog AP : 0.9345729182672855_6\n"
     ]
    },
    {
     "name": "stderr",
     "output_type": "stream",
     "text": [
      "100%|█████████████████████████████████████████| 321/321 [00:26<00:00, 12.32it/s]\n"
     ]
    },
    {
     "name": "stdout",
     "output_type": "stream",
     "text": [
      "Rain AP : 0.9081313095998933_6\n"
     ]
    },
    {
     "name": "stderr",
     "output_type": "stream",
     "text": [
      "100%|█████████████████████████████████████████| 296/296 [00:23<00:00, 12.66it/s]\n"
     ]
    },
    {
     "name": "stdout",
     "output_type": "stream",
     "text": [
      "Night AP : 0.9227043707069136_6\n",
      "Total AP : 0.9177048746685448_6\n"
     ]
    },
    {
     "name": "stderr",
     "output_type": "stream",
     "text": [
      "100%|█████████████████████████████████████████| 300/300 [00:23<00:00, 12.66it/s]\n"
     ]
    },
    {
     "name": "stdout",
     "output_type": "stream",
     "text": [
      "Sunny AP : 0.962529343393399_7\n"
     ]
    },
    {
     "name": "stderr",
     "output_type": "stream",
     "text": [
      "100%|█████████████████████████████████████████| 106/106 [00:08<00:00, 12.66it/s]\n"
     ]
    },
    {
     "name": "stdout",
     "output_type": "stream",
     "text": [
      "Fog AP : 0.9187680762941817_7\n"
     ]
    },
    {
     "name": "stderr",
     "output_type": "stream",
     "text": [
      "100%|█████████████████████████████████████████| 321/321 [00:25<00:00, 12.36it/s]\n"
     ]
    },
    {
     "name": "stdout",
     "output_type": "stream",
     "text": [
      "Rain AP : 0.9014207454554288_7\n"
     ]
    },
    {
     "name": "stderr",
     "output_type": "stream",
     "text": [
      "100%|█████████████████████████████████████████| 296/296 [00:23<00:00, 12.66it/s]\n"
     ]
    },
    {
     "name": "stdout",
     "output_type": "stream",
     "text": [
      "Night AP : 0.9152805538051956_7\n",
      "Total AP : 0.9122780213526243_7\n"
     ]
    },
    {
     "name": "stderr",
     "output_type": "stream",
     "text": [
      "100%|█████████████████████████████████████████| 300/300 [00:23<00:00, 12.70it/s]\n"
     ]
    },
    {
     "name": "stdout",
     "output_type": "stream",
     "text": [
      "Sunny AP : 0.9629383246225238_8\n"
     ]
    },
    {
     "name": "stderr",
     "output_type": "stream",
     "text": [
      "100%|█████████████████████████████████████████| 106/106 [00:08<00:00, 12.64it/s]\n"
     ]
    },
    {
     "name": "stdout",
     "output_type": "stream",
     "text": [
      "Fog AP : 0.9110699451559405_8\n"
     ]
    },
    {
     "name": "stderr",
     "output_type": "stream",
     "text": [
      "100%|█████████████████████████████████████████| 321/321 [00:26<00:00, 12.29it/s]\n"
     ]
    },
    {
     "name": "stdout",
     "output_type": "stream",
     "text": [
      "Rain AP : 0.9135264106291157_8\n"
     ]
    },
    {
     "name": "stderr",
     "output_type": "stream",
     "text": [
      "100%|█████████████████████████████████████████| 296/296 [00:23<00:00, 12.81it/s]\n"
     ]
    },
    {
     "name": "stdout",
     "output_type": "stream",
     "text": [
      "Night AP : 0.9269908411360577_8\n",
      "Total AP : 0.9212322117234355_8\n"
     ]
    },
    {
     "name": "stderr",
     "output_type": "stream",
     "text": [
      "100%|█████████████████████████████████████████| 300/300 [00:23<00:00, 12.82it/s]\n"
     ]
    },
    {
     "name": "stdout",
     "output_type": "stream",
     "text": [
      "Sunny AP : 0.9586977389435596_9\n"
     ]
    },
    {
     "name": "stderr",
     "output_type": "stream",
     "text": [
      "100%|█████████████████████████████████████████| 106/106 [00:08<00:00, 12.66it/s]\n"
     ]
    },
    {
     "name": "stdout",
     "output_type": "stream",
     "text": [
      "Fog AP : 0.933276535906792_9\n"
     ]
    },
    {
     "name": "stderr",
     "output_type": "stream",
     "text": [
      "100%|█████████████████████████████████████████| 321/321 [00:25<00:00, 12.44it/s]\n"
     ]
    },
    {
     "name": "stdout",
     "output_type": "stream",
     "text": [
      "Rain AP : 0.9089689548025408_9\n"
     ]
    },
    {
     "name": "stderr",
     "output_type": "stream",
     "text": [
      "100%|█████████████████████████████████████████| 296/296 [00:23<00:00, 12.76it/s]\n"
     ]
    },
    {
     "name": "stdout",
     "output_type": "stream",
     "text": [
      "Night AP : 0.9247354118993201_9\n",
      "Total AP : 0.9191117141937166_9\n"
     ]
    },
    {
     "name": "stderr",
     "output_type": "stream",
     "text": [
      "100%|█████████████████████████████████████████| 300/300 [00:23<00:00, 12.67it/s]\n"
     ]
    },
    {
     "name": "stdout",
     "output_type": "stream",
     "text": [
      "Sunny AP : 0.9519658532175512_10\n"
     ]
    },
    {
     "name": "stderr",
     "output_type": "stream",
     "text": [
      "100%|█████████████████████████████████████████| 106/106 [00:08<00:00, 12.47it/s]\n"
     ]
    },
    {
     "name": "stdout",
     "output_type": "stream",
     "text": [
      "Fog AP : 0.9305113702873058_10\n"
     ]
    },
    {
     "name": "stderr",
     "output_type": "stream",
     "text": [
      "100%|█████████████████████████████████████████| 321/321 [00:25<00:00, 12.36it/s]\n"
     ]
    },
    {
     "name": "stdout",
     "output_type": "stream",
     "text": [
      "Rain AP : 0.9056977999163625_10\n"
     ]
    },
    {
     "name": "stderr",
     "output_type": "stream",
     "text": [
      "100%|█████████████████████████████████████████| 296/296 [00:23<00:00, 12.68it/s]\n"
     ]
    },
    {
     "name": "stdout",
     "output_type": "stream",
     "text": [
      "Night AP : 0.9172117649877762_10\n",
      "Total AP : 0.9149909180112497_10\n"
     ]
    },
    {
     "name": "stderr",
     "output_type": "stream",
     "text": [
      "100%|█████████████████████████████████████████| 300/300 [00:23<00:00, 12.76it/s]\n"
     ]
    },
    {
     "name": "stdout",
     "output_type": "stream",
     "text": [
      "Sunny AP : 0.9559243780856903_11\n"
     ]
    },
    {
     "name": "stderr",
     "output_type": "stream",
     "text": [
      "100%|█████████████████████████████████████████| 106/106 [00:08<00:00, 12.77it/s]\n"
     ]
    },
    {
     "name": "stdout",
     "output_type": "stream",
     "text": [
      "Fog AP : 0.9346262880398619_11\n"
     ]
    },
    {
     "name": "stderr",
     "output_type": "stream",
     "text": [
      "100%|█████████████████████████████████████████| 321/321 [00:25<00:00, 12.44it/s]\n"
     ]
    },
    {
     "name": "stdout",
     "output_type": "stream",
     "text": [
      "Rain AP : 0.9007959233191123_11\n"
     ]
    },
    {
     "name": "stderr",
     "output_type": "stream",
     "text": [
      "100%|█████████████████████████████████████████| 296/296 [00:23<00:00, 12.64it/s]\n"
     ]
    },
    {
     "name": "stdout",
     "output_type": "stream",
     "text": [
      "Night AP : 0.922868742946422_11\n",
      "Total AP : 0.9129676558848452_11\n"
     ]
    },
    {
     "name": "stderr",
     "output_type": "stream",
     "text": [
      "100%|█████████████████████████████████████████| 300/300 [00:23<00:00, 12.75it/s]\n"
     ]
    },
    {
     "name": "stdout",
     "output_type": "stream",
     "text": [
      "Sunny AP : 0.9556064909357929_12\n"
     ]
    },
    {
     "name": "stderr",
     "output_type": "stream",
     "text": [
      "100%|█████████████████████████████████████████| 106/106 [00:08<00:00, 12.58it/s]\n"
     ]
    },
    {
     "name": "stdout",
     "output_type": "stream",
     "text": [
      "Fog AP : 0.9263689077124688_12\n"
     ]
    },
    {
     "name": "stderr",
     "output_type": "stream",
     "text": [
      "100%|█████████████████████████████████████████| 321/321 [00:25<00:00, 12.43it/s]\n"
     ]
    },
    {
     "name": "stdout",
     "output_type": "stream",
     "text": [
      "Rain AP : 0.9062669169943316_12\n"
     ]
    },
    {
     "name": "stderr",
     "output_type": "stream",
     "text": [
      "100%|█████████████████████████████████████████| 296/296 [00:23<00:00, 12.65it/s]\n"
     ]
    },
    {
     "name": "stdout",
     "output_type": "stream",
     "text": [
      "Night AP : 0.9110827995913446_12\n",
      "Total AP : 0.9141747634132473_12\n"
     ]
    },
    {
     "name": "stderr",
     "output_type": "stream",
     "text": [
      "100%|█████████████████████████████████████████| 300/300 [00:23<00:00, 12.78it/s]\n"
     ]
    },
    {
     "name": "stdout",
     "output_type": "stream",
     "text": [
      "Sunny AP : 0.9587402710840927_13\n"
     ]
    },
    {
     "name": "stderr",
     "output_type": "stream",
     "text": [
      "100%|█████████████████████████████████████████| 106/106 [00:08<00:00, 12.63it/s]\n"
     ]
    },
    {
     "name": "stdout",
     "output_type": "stream",
     "text": [
      "Fog AP : 0.9183714422860447_13\n"
     ]
    },
    {
     "name": "stderr",
     "output_type": "stream",
     "text": [
      "100%|█████████████████████████████████████████| 321/321 [00:25<00:00, 12.45it/s]\n"
     ]
    },
    {
     "name": "stdout",
     "output_type": "stream",
     "text": [
      "Rain AP : 0.9074580568970649_13\n"
     ]
    },
    {
     "name": "stderr",
     "output_type": "stream",
     "text": [
      "100%|█████████████████████████████████████████| 296/296 [00:23<00:00, 12.63it/s]\n"
     ]
    },
    {
     "name": "stdout",
     "output_type": "stream",
     "text": [
      "Night AP : 0.9169397568431537_13\n",
      "Total AP : 0.9157202575477461_13\n"
     ]
    },
    {
     "name": "stderr",
     "output_type": "stream",
     "text": [
      "100%|█████████████████████████████████████████| 300/300 [00:23<00:00, 12.75it/s]\n"
     ]
    },
    {
     "name": "stdout",
     "output_type": "stream",
     "text": [
      "Sunny AP : 0.9488876932060375_14\n"
     ]
    },
    {
     "name": "stderr",
     "output_type": "stream",
     "text": [
      "100%|█████████████████████████████████████████| 106/106 [00:08<00:00, 12.69it/s]\n"
     ]
    },
    {
     "name": "stdout",
     "output_type": "stream",
     "text": [
      "Fog AP : 0.9308102407817564_14\n"
     ]
    },
    {
     "name": "stderr",
     "output_type": "stream",
     "text": [
      "100%|█████████████████████████████████████████| 321/321 [00:26<00:00, 12.32it/s]\n"
     ]
    },
    {
     "name": "stdout",
     "output_type": "stream",
     "text": [
      "Rain AP : 0.9030230319555361_14\n"
     ]
    },
    {
     "name": "stderr",
     "output_type": "stream",
     "text": [
      "100%|█████████████████████████████████████████| 296/296 [00:23<00:00, 12.66it/s]\n"
     ]
    },
    {
     "name": "stdout",
     "output_type": "stream",
     "text": [
      "Night AP : 0.913313091430334_14\n",
      "Total AP : 0.911701525359371_14\n"
     ]
    },
    {
     "name": "stderr",
     "output_type": "stream",
     "text": [
      "100%|█████████████████████████████████████████| 300/300 [00:23<00:00, 12.74it/s]\n"
     ]
    },
    {
     "name": "stdout",
     "output_type": "stream",
     "text": [
      "Sunny AP : 0.9559250315524572_15\n"
     ]
    },
    {
     "name": "stderr",
     "output_type": "stream",
     "text": [
      "100%|█████████████████████████████████████████| 106/106 [00:08<00:00, 12.66it/s]\n"
     ]
    },
    {
     "name": "stdout",
     "output_type": "stream",
     "text": [
      "Fog AP : 0.9300721617568648_15\n"
     ]
    },
    {
     "name": "stderr",
     "output_type": "stream",
     "text": [
      "100%|█████████████████████████████████████████| 321/321 [00:25<00:00, 12.41it/s]\n"
     ]
    },
    {
     "name": "stdout",
     "output_type": "stream",
     "text": [
      "Rain AP : 0.9055917760599232_15\n"
     ]
    },
    {
     "name": "stderr",
     "output_type": "stream",
     "text": [
      "100%|█████████████████████████████████████████| 296/296 [00:23<00:00, 12.68it/s]\n"
     ]
    },
    {
     "name": "stdout",
     "output_type": "stream",
     "text": [
      "Night AP : 0.9191478952838379_15\n",
      "Total AP : 0.9153723155632019_15\n"
     ]
    }
   ],
   "source": [
    "total_AP = []\n",
    "sunny_AP = []\n",
    "fog_AP = []\n",
    "rain_AP = []\n",
    "night_AP = []\n",
    "\n",
    "model_fog = get_model_instance_segmentation(2)\n",
    "model_fog.to(device)\n",
    "model_rain = get_model_instance_segmentation(2)\n",
    "model_rain.to(device)\n",
    "model_sunny = get_model_instance_segmentation(2)\n",
    "model_sunny.to(device)\n",
    "model_night = get_model_instance_segmentation(2)\n",
    "model_night.to(device)\n",
    "    \n",
    "for i in range(15):\n",
    "    model_fog.load_state_dict(torch.load('./model/fog_+'+str(i+1)+'.pt'))\n",
    "    model_rain.load_state_dict(torch.load('./model/rain_+'+str(i+1)+'.pt'))\n",
    "    model_sunny.load_state_dict(torch.load('./model/sunny_+'+str(i+1)+'.pt'))\n",
    "    model_night.load_state_dict(torch.load('./model/night_+'+str(i+1)+'.pt'))\n",
    "    model_fog.eval()\n",
    "    model_rain.eval()\n",
    "    model_sunny.eval()\n",
    "    model_night.eval()\n",
    "        \n",
    "    # Sunny AP Caculation\n",
    "    \n",
    "    model = model_sunny\n",
    "\n",
    "    labels_sunny = []\n",
    "    preds_adj_all_sunny = []\n",
    "    annot_all_sunny = []\n",
    "\n",
    "    for im, annot in tqdm(test_data_loader_sunny, position = 0, leave = True):\n",
    "        im = list(img.to(device) for img in im)\n",
    "        #annot = [{k: v.to(device) for k, v in t.items()} for t in annot]\n",
    "\n",
    "        for t in annot:\n",
    "            labels_sunny += t['labels']\n",
    "\n",
    "        with torch.no_grad():\n",
    "            preds_adj_sunny = make_prediction(model, im, 0.5)\n",
    "            preds_adj_sunny = [{k: v.to(torch.device('cpu')) for k, v in t.items()} for t in preds_adj_sunny]\n",
    "            preds_adj_all_sunny.append(preds_adj_sunny)\n",
    "            annot_all_sunny.append(annot)       \n",
    "    preds_adj_all = preds_adj_all_sunny\n",
    "    annot_all = annot_all_sunny\n",
    "    labels = labels_sunny    \n",
    "    sample_metrics = []\n",
    "    for batch_i in range(len(preds_adj_all)):\n",
    "        sample_metrics += get_batch_statistics(preds_adj_all[batch_i], annot_all[batch_i], iou_threshold=0.5) \n",
    "    true_positives, pred_scores, pred_labels = [torch.cat(x, 0) for x in list(zip(*sample_metrics))]\n",
    "    precision, recall, AP, f1, ap_class = ap_per_class(true_positives, pred_scores, pred_labels, torch.tensor(labels))\n",
    "    mAP_sunny = torch.mean(AP)\n",
    "    sunny_AP.append(mAP_sunny.item())\n",
    "    print(f'Sunny AP : {mAP_sunny}'+'_'+str(i+1))\n",
    "    \n",
    "    # Fog AP Caculation\n",
    "    labels_fog = []\n",
    "    preds_adj_all_fog = []\n",
    "    annot_all_fog = []\n",
    "    model = model_fog\n",
    "    for im, annot in tqdm(test_data_loader_fog, position = 0, leave = True):\n",
    "        im = list(img.to(device) for img in im)\n",
    "        for t in annot:\n",
    "            labels_fog += t['labels']\n",
    "        with torch.no_grad():\n",
    "            preds_adj_fog = make_prediction(model, im, 0.5)\n",
    "            preds_adj_fog = [{k: v.to(torch.device('cpu')) for k, v in t.items()} for t in preds_adj_fog]\n",
    "            preds_adj_all_fog.append(preds_adj_fog)\n",
    "            annot_all_fog.append(annot)            \n",
    "    preds_adj_all = preds_adj_all_fog\n",
    "    annot_all = annot_all_fog\n",
    "    labels = labels_fog            \n",
    "    sample_metrics = []\n",
    "    for batch_i in range(len(preds_adj_all)):\n",
    "        sample_metrics += get_batch_statistics(preds_adj_all[batch_i], annot_all[batch_i], iou_threshold=0.5) \n",
    "    true_positives, pred_scores, pred_labels = [torch.cat(x, 0) for x in list(zip(*sample_metrics))]\n",
    "    precision, recall, AP, f1, ap_class = ap_per_class(true_positives, pred_scores, pred_labels, torch.tensor(labels))\n",
    "    mAP_fog = torch.mean(AP)\n",
    "    fog_AP.append(mAP_fog.item())\n",
    "    print(f'Fog AP : {mAP_fog}'+'_'+str(i+1))\n",
    "    \n",
    "    # Rain AP Caculation\n",
    "    model = model_rain\n",
    "    labels_rain = []\n",
    "    preds_adj_all_rain = []\n",
    "    annot_all_rain = []\n",
    "\n",
    "    for im, annot in tqdm(test_data_loader_rain, position = 0, leave = True):\n",
    "        im = list(img.to(device) for img in im)\n",
    "        #annot = [{k: v.to(device) for k, v in t.items()} for t in annot]\n",
    "\n",
    "        for t in annot:\n",
    "            labels_rain += t['labels']\n",
    "\n",
    "        with torch.no_grad():\n",
    "            preds_adj_rain = make_prediction(model, im, 0.5)\n",
    "            preds_adj_rain = [{k: v.to(torch.device('cpu')) for k, v in t.items()} for t in preds_adj_rain]\n",
    "            preds_adj_all_rain.append(preds_adj_rain)\n",
    "            annot_all_rain.append(annot)\n",
    "\n",
    "    preds_adj_all = preds_adj_all_rain\n",
    "    annot_all = annot_all_rain\n",
    "    labels = labels_rain\n",
    "    sample_metrics = []\n",
    "    for batch_i in range(len(preds_adj_all)):\n",
    "        sample_metrics += get_batch_statistics(preds_adj_all[batch_i], annot_all[batch_i], iou_threshold=0.5) \n",
    "    true_positives, pred_scores, pred_labels = [torch.cat(x, 0) for x in list(zip(*sample_metrics))]\n",
    "    precision, recall, AP, f1, ap_class = ap_per_class(true_positives, pred_scores, pred_labels, torch.tensor(labels))\n",
    "    mAP_rain = torch.mean(AP)\n",
    "    rain_AP.append(mAP_rain.item())\n",
    "    print(f'Rain AP : {mAP_rain}'+'_'+str(i+1))\n",
    "    \n",
    "    # Night AP Caculation\n",
    "    model = model_night\n",
    "\n",
    "    labels_night = []\n",
    "    preds_adj_all_night = []\n",
    "    annot_all_night = []\n",
    "\n",
    "    for im, annot in tqdm(test_data_loader_night, position = 0, leave = True):\n",
    "        im = list(img.to(device) for img in im)\n",
    "    #annot = [{k: v.to(device) for k, v in t.items()} for t in annot]\n",
    "\n",
    "        for t in annot:\n",
    "            labels_night += t['labels']\n",
    "\n",
    "        with torch.no_grad():\n",
    "            preds_adj_night = make_prediction(model, im, 0.5)\n",
    "            preds_adj_night = [{k: v.to(torch.device('cpu')) for k, v in t.items()} for t in preds_adj_night]\n",
    "            preds_adj_all_night.append(preds_adj_night)\n",
    "            annot_all_night.append(annot)\n",
    "\n",
    "    preds_adj_all = preds_adj_all_night\n",
    "    annot_all = annot_all_night\n",
    "    labels = labels_night\n",
    "    sample_metrics = []\n",
    "    for batch_i in range(len(preds_adj_all)):\n",
    "        sample_metrics += get_batch_statistics(preds_adj_all[batch_i], annot_all[batch_i], iou_threshold=0.5) \n",
    "    true_positives, pred_scores, pred_labels = [torch.cat(x, 0) for x in list(zip(*sample_metrics))]\n",
    "    precision, recall, AP, f1, ap_class = ap_per_class(true_positives, pred_scores, pred_labels, torch.tensor(labels))\n",
    "    mAP_night = torch.mean(AP)\n",
    "    night_AP.append(mAP_night.item())\n",
    "    print(f'Night AP : {mAP_night}'+'_'+str(i+1))\n",
    "    \n",
    "    # Sum up all data from different networks\n",
    "    preds_adj_all = preds_adj_all_fog + preds_adj_all_rain + preds_adj_all_sunny+ preds_adj_all_night\n",
    "    annot_all = annot_all_fog + annot_all_rain + annot_all_sunny + annot_all_night\n",
    "    labels = labels_fog + labels_rain + labels_sunny + labels_night   \n",
    "    \n",
    "    # Total AP Caculation\n",
    "    sample_metrics = []\n",
    "    for batch_i in range(len(preds_adj_all)):\n",
    "        sample_metrics += get_batch_statistics(preds_adj_all[batch_i], annot_all[batch_i], iou_threshold=0.5) \n",
    "    true_positives, pred_scores, pred_labels = [torch.cat(x, 0) for x in list(zip(*sample_metrics))]\n",
    "    precision, recall, AP, f1, ap_class = ap_per_class(true_positives, pred_scores, pred_labels, torch.tensor(labels))\n",
    "    mAP_total = torch.mean(AP)\n",
    "    total_AP.append(mAP_total.item())\n",
    "    print(f'Total AP : {mAP_total}'+'_'+str(i+1))"
   ]
  },
  {
   "cell_type": "code",
   "execution_count": 4,
   "id": "03495226",
   "metadata": {},
   "outputs": [
    {
     "data": {
      "image/png": "[encoded data removed]",
      "text/plain": [
       "<Figure size 1080x720 with 1 Axes>"
      ]
     },
     "metadata": {
      "needs_background": "light"
     },
     "output_type": "display_data"
    }
   ],
   "source": [
    "y1 = total_AP\n",
    "y2 = sunny_AP\n",
    "y3 = fog_AP\n",
    "y4 = rain_AP\n",
    "y5 = night_AP\n",
    "x = list(range(0,len(y1)))\n",
    "\n",
    "plt.figure(figsize=(15,10))\n",
    "plt.plot(x, y1, label = \"Total\")\n",
    "plt.plot(x, y2, label = \"Sunny\")\n",
    "plt.plot(x, y3, label = \"Fog\")\n",
    "plt.plot(x, y4, label = \"Rain\")\n",
    "plt.plot(x, y5, label = \"Night\")\n",
    "plt.xlabel('Epoch')\n",
    "plt.ylabel('AP')\n",
    "plt.title('AP')\n",
    "plt.legend()\n",
    "plt.show()"
   ]
  },
  {
   "cell_type": "code",
   "execution_count": 5,
   "id": "dc3accf0",
   "metadata": {},
   "outputs": [
    {
     "name": "stdout",
     "output_type": "stream",
     "text": [
      "0.9285297314178209 4\n",
      "0.9646868045925174 4\n",
      "0.9531153550382498 3\n",
      "0.9201947362070069 4\n",
      "0.9391676648584508 3\n"
     ]
    }
   ],
   "source": [
    "(m,i) = max((v,i) for i,v in enumerate(total_AP))\n",
    "print (m,i)\n",
    "\n",
    "(m,i) = max((v,i) for i,v in enumerate(sunny_AP))\n",
    "print (m,i)\n",
    "\n",
    "(m,i) = max((v,i) for i,v in enumerate(fog_AP))\n",
    "print (m,i)\n",
    "\n",
    "(m,i) = max((v,i) for i,v in enumerate(rain_AP))\n",
    "print (m,i)\n",
    "\n",
    "(m,i) = max((v,i) for i,v in enumerate(night_AP))\n",
    "print (m,i)"
   ]
  },
  {
   "cell_type": "code",
   "execution_count": 6,
   "id": "c8bd4df6",
   "metadata": {},
   "outputs": [
    {
     "name": "stdout",
     "output_type": "stream",
     "text": [
      "[0.8382978558899703, 0.8762984157637432, 0.8799766341684738, 0.9202133476814938, 0.9285297314178209, 0.9177048746685448, 0.9122780213526243, 0.9212322117234355, 0.9191117141937166, 0.9149909180112497, 0.9129676558848452, 0.9141747634132473, 0.9157202575477461, 0.911701525359371, 0.9153723155632019]\n",
      "[0.9465870453747041, 0.961680219567846, 0.9623382640575429, 0.96174968740781, 0.9646868045925174, 0.9583564813515224, 0.962529343393399, 0.9629383246225238, 0.9586977389435596, 0.9519658532175512, 0.9559243780856903, 0.9556064909357929, 0.9587402710840927, 0.9488876932060375, 0.9559250315524572]\n",
      "[0.8230267165014284, 0.8262536046236857, 0.9247028005034323, 0.9531153550382498, 0.9391831288982786, 0.9345729182672855, 0.9187680762941817, 0.9110699451559405, 0.933276535906792, 0.9305113702873058, 0.9346262880398619, 0.9263689077124688, 0.9183714422860447, 0.9308102407817564, 0.9300721617568648]\n",
      "[0.8067249308499878, 0.857652620391379, 0.8548081729124002, 0.9038540501661991, 0.9201947362070069, 0.9081313095998933, 0.9014207454554288, 0.9135264106291157, 0.9089689548025408, 0.9056977999163625, 0.9007959233191123, 0.9062669169943316, 0.9074580568970649, 0.9030230319555361, 0.9055917760599232]\n",
      "[0.8861161860720532, 0.9077789586141221, 0.8934098557319103, 0.9391676648584508, 0.9295474530042893, 0.9227043707069136, 0.9152805538051956, 0.9269908411360577, 0.9247354118993201, 0.9172117649877762, 0.922868742946422, 0.9110827995913446, 0.9169397568431537, 0.913313091430334, 0.9191478952838379]\n"
     ]
    }
   ],
   "source": [
    "print(total_AP)\n",
    "print(sunny_AP)\n",
    "print(fog_AP)\n",
    "print(rain_AP)\n",
    "print(night_AP)"
   ]
  },
  {
   "cell_type": "code",
   "execution_count": 7,
   "id": "9573ebec",
   "metadata": {},
   "outputs": [
    {
     "data": {
      "text/plain": [
       "<All keys matched successfully>"
      ]
     },
     "execution_count": 7,
     "metadata": {},
     "output_type": "execute_result"
    }
   ],
   "source": [
    "# Load models\n",
    "model_fog.load_state_dict(torch.load('./model/fog_+4.pt'))\n",
    "model_rain.load_state_dict(torch.load('./model/rain_+5.pt'))\n",
    "model_sunny.load_state_dict(torch.load('./model/sunny_+5.pt'))\n",
    "model_night.load_state_dict(torch.load('./model/night_+4.pt'))"
   ]
  },
  {
   "cell_type": "code",
   "execution_count": 8,
   "id": "739e3865",
   "metadata": {},
   "outputs": [
    {
     "name": "stderr",
     "output_type": "stream",
     "text": [
      "100%|█████████████████████████████████████████| 106/106 [00:07<00:00, 13.42it/s]"
     ]
    },
    {
     "name": "stdout",
     "output_type": "stream",
     "text": [
      "mAP : 0.9531153550382498\n",
      "AP : tensor([0.9531], dtype=torch.float64)\n"
     ]
    },
    {
     "name": "stderr",
     "output_type": "stream",
     "text": [
      "\n"
     ]
    }
   ],
   "source": [
    "# fog\n",
    "from tqdm import tqdm\n",
    "\n",
    "model = model_fog\n",
    "\n",
    "labels_fog = []\n",
    "preds_adj_all_fog = []\n",
    "annot_all_fog = []\n",
    "\n",
    "for im, annot in tqdm(test_data_loader_fog, position = 0, leave = True):\n",
    "    im = list(img.to(device) for img in im)\n",
    "    #annot = [{k: v.to(device) for k, v in t.items()} for t in annot]\n",
    "\n",
    "    for t in annot:\n",
    "        labels_fog += t['labels']\n",
    "\n",
    "    with torch.no_grad():\n",
    "        preds_adj_fog = make_prediction(model, im, 0.5)\n",
    "        preds_adj_fog = [{k: v.to(torch.device('cpu')) for k, v in t.items()} for t in preds_adj_fog]\n",
    "        preds_adj_all_fog.append(preds_adj_fog)\n",
    "        annot_all_fog.append(annot)\n",
    "\n",
    "preds_adj_all = preds_adj_all_fog\n",
    "annot_all = annot_all_fog\n",
    "labels = labels_fog\n",
    "\n",
    "sample_metrics = []\n",
    "\n",
    "for batch_i in range(len(preds_adj_all)): # len(preds_adj_all) : The number of batches\n",
    "    sample_metrics += get_batch_statistics(preds_adj_all[batch_i], annot_all[batch_i], iou_threshold=0.5) \n",
    "\n",
    "true_positives, pred_scores, pred_labels = [torch.cat(x, 0) for x in list(zip(*sample_metrics))]\n",
    "precision, recall, AP, f1, ap_class = ap_per_class(true_positives, pred_scores, pred_labels, torch.tensor(labels))\n",
    "mAP = torch.mean(AP)\n",
    "print(f'mAP : {mAP}')\n",
    "print(f'AP : {AP}')"
   ]
  },
  {
   "cell_type": "code",
   "execution_count": 9,
   "id": "7c5191d4",
   "metadata": {},
   "outputs": [
    {
     "name": "stderr",
     "output_type": "stream",
     "text": [
      "100%|█████████████████████████████████████████| 321/321 [00:25<00:00, 12.77it/s]\n"
     ]
    },
    {
     "name": "stdout",
     "output_type": "stream",
     "text": [
      "mAP : 0.9201947362070069\n",
      "AP : tensor([0.9202], dtype=torch.float64)\n"
     ]
    }
   ],
   "source": [
    "# rain\n",
    "from tqdm import tqdm\n",
    "\n",
    "model = model_rain\n",
    "\n",
    "labels_rain = []\n",
    "preds_adj_all_rain = []\n",
    "annot_all_rain = []\n",
    "\n",
    "for im, annot in tqdm(test_data_loader_rain, position = 0, leave = True):\n",
    "    im = list(img.to(device) for img in im)\n",
    "    #annot = [{k: v.to(device) for k, v in t.items()} for t in annot]\n",
    "\n",
    "    for t in annot:\n",
    "        labels_rain += t['labels']\n",
    "\n",
    "    with torch.no_grad():\n",
    "        preds_adj_rain = make_prediction(model, im, 0.5)\n",
    "        preds_adj_rain = [{k: v.to(torch.device('cpu')) for k, v in t.items()} for t in preds_adj_rain]\n",
    "        preds_adj_all_rain.append(preds_adj_rain)\n",
    "        annot_all_rain.append(annot)\n",
    "\n",
    "preds_adj_all = preds_adj_all_rain\n",
    "annot_all = annot_all_rain\n",
    "labels = labels_rain\n",
    "\n",
    "sample_metrics = []\n",
    "\n",
    "for batch_i in range(len(preds_adj_all)): # len(preds_adj_all) : The number of batches\n",
    "    sample_metrics += get_batch_statistics(preds_adj_all[batch_i], annot_all[batch_i], iou_threshold=0.5) \n",
    "\n",
    "true_positives, pred_scores, pred_labels = [torch.cat(x, 0) for x in list(zip(*sample_metrics))]\n",
    "precision, recall, AP, f1, ap_class = ap_per_class(true_positives, pred_scores, pred_labels, torch.tensor(labels))\n",
    "mAP = torch.mean(AP)\n",
    "print(f'mAP : {mAP}')\n",
    "print(f'AP : {AP}')"
   ]
  },
  {
   "cell_type": "code",
   "execution_count": 10,
   "id": "e9b726ff",
   "metadata": {},
   "outputs": [
    {
     "name": "stderr",
     "output_type": "stream",
     "text": [
      "100%|█████████████████████████████████████████| 300/300 [00:22<00:00, 13.06it/s]\n"
     ]
    },
    {
     "name": "stdout",
     "output_type": "stream",
     "text": [
      "mAP : 0.9646868045925174\n",
      "AP : tensor([0.9647], dtype=torch.float64)\n"
     ]
    }
   ],
   "source": [
    "# sunny\n",
    "from tqdm import tqdm\n",
    "\n",
    "model = model_sunny\n",
    "\n",
    "labels_sunny = []\n",
    "preds_adj_all_sunny = []\n",
    "annot_all_sunny = []\n",
    "\n",
    "for im, annot in tqdm(test_data_loader_sunny, position = 0, leave = True):\n",
    "    im = list(img.to(device) for img in im)\n",
    "    #annot = [{k: v.to(device) for k, v in t.items()} for t in annot]\n",
    "\n",
    "    for t in annot:\n",
    "        labels_sunny += t['labels']\n",
    "\n",
    "    with torch.no_grad():\n",
    "        preds_adj_sunny = make_prediction(model, im, 0.5)\n",
    "        preds_adj_sunny = [{k: v.to(torch.device('cpu')) for k, v in t.items()} for t in preds_adj_sunny]\n",
    "        preds_adj_all_sunny.append(preds_adj_sunny)\n",
    "        annot_all_sunny.append(annot)\n",
    "        \n",
    "preds_adj_all = preds_adj_all_sunny\n",
    "annot_all = annot_all_sunny\n",
    "labels = labels_sunny\n",
    "\n",
    "sample_metrics = []\n",
    "\n",
    "for batch_i in range(len(preds_adj_all)): # len(preds_adj_all) : The number of batches\n",
    "    sample_metrics += get_batch_statistics(preds_adj_all[batch_i], annot_all[batch_i], iou_threshold=0.5) \n",
    "\n",
    "true_positives, pred_scores, pred_labels = [torch.cat(x, 0) for x in list(zip(*sample_metrics))]\n",
    "precision, recall, AP, f1, ap_class = ap_per_class(true_positives, pred_scores, pred_labels, torch.tensor(labels))\n",
    "mAP = torch.mean(AP)\n",
    "print(f'mAP : {mAP}')\n",
    "print(f'AP : {AP}')"
   ]
  },
  {
   "cell_type": "code",
   "execution_count": 11,
   "id": "36c1f4c8",
   "metadata": {},
   "outputs": [
    {
     "name": "stderr",
     "output_type": "stream",
     "text": [
      "100%|█████████████████████████████████████████| 296/296 [00:22<00:00, 12.98it/s]\n"
     ]
    },
    {
     "name": "stdout",
     "output_type": "stream",
     "text": [
      "mAP : 0.9391676648584508\n",
      "AP : tensor([0.9392], dtype=torch.float64)\n"
     ]
    }
   ],
   "source": [
    "# night\n",
    "from tqdm import tqdm\n",
    "\n",
    "model = model_night\n",
    "\n",
    "labels_night = []\n",
    "preds_adj_all_night = []\n",
    "annot_all_night = []\n",
    "\n",
    "for im, annot in tqdm(test_data_loader_night, position = 0, leave = True):\n",
    "    im = list(img.to(device) for img in im)\n",
    "    #annot = [{k: v.to(device) for k, v in t.items()} for t in annot]\n",
    "\n",
    "    for t in annot:\n",
    "        labels_night += t['labels']\n",
    "\n",
    "    with torch.no_grad():\n",
    "        preds_adj_night = make_prediction(model, im, 0.5)\n",
    "        preds_adj_night = [{k: v.to(torch.device('cpu')) for k, v in t.items()} for t in preds_adj_night]\n",
    "        preds_adj_all_night.append(preds_adj_night)\n",
    "        annot_all_night.append(annot)\n",
    "\n",
    "preds_adj_all = preds_adj_all_night\n",
    "annot_all = annot_all_night\n",
    "labels = labels_night\n",
    "\n",
    "sample_metrics = []\n",
    "\n",
    "for batch_i in range(len(preds_adj_all)): # len(preds_adj_all) : The number of batches\n",
    "    sample_metrics += get_batch_statistics(preds_adj_all[batch_i], annot_all[batch_i], iou_threshold=0.5) \n",
    "\n",
    "true_positives, pred_scores, pred_labels = [torch.cat(x, 0) for x in list(zip(*sample_metrics))]\n",
    "precision, recall, AP, f1, ap_class = ap_per_class(true_positives, pred_scores, pred_labels, torch.tensor(labels))\n",
    "mAP = torch.mean(AP)\n",
    "print(f'mAP : {mAP}')\n",
    "print(f'AP : {AP}')"
   ]
  },
  {
   "cell_type": "code",
   "execution_count": 12,
   "id": "b3eec997",
   "metadata": {},
   "outputs": [
    {
     "name": "stdout",
     "output_type": "stream",
     "text": [
      "mAP : 0.9311827162474948\n",
      "AP : tensor([0.9312], dtype=torch.float64)\n"
     ]
    }
   ],
   "source": [
    "# Sum up all data from different networks\n",
    "preds_adj_all = preds_adj_all_fog + preds_adj_all_rain + preds_adj_all_sunny+ preds_adj_all_night\n",
    "annot_all = annot_all_fog + annot_all_rain + annot_all_sunny + annot_all_night\n",
    "labels = labels_fog + labels_rain + labels_sunny + labels_night\n",
    "\n",
    "# Overall AP\n",
    "\n",
    "sample_metrics = []\n",
    "\n",
    "for batch_i in range(len(preds_adj_all)): # len(preds_adj_all) : The number of batches\n",
    "    sample_metrics += get_batch_statistics(preds_adj_all[batch_i], annot_all[batch_i], iou_threshold=0.5) \n",
    "\n",
    "true_positives, pred_scores, pred_labels = [torch.cat(x, 0) for x in list(zip(*sample_metrics))]\n",
    "precision, recall, AP, f1, ap_class = ap_per_class(true_positives, pred_scores, pred_labels, torch.tensor(labels))\n",
    "mAP = torch.mean(AP)\n",
    "print(f'mAP : {mAP}')\n",
    "print(f'AP : {AP}')"
   ]
  }
 ],
 "metadata": {
  "kernelspec": {
   "display_name": "Python 3 (ipykernel)",
   "language": "python",
   "name": "python3"
  },
  "language_info": {
   "codemirror_mode": {
    "name": "ipython",
    "version": 3
   },
   "file_extension": ".py",
   "mimetype": "text/x-python",
   "name": "python",
   "nbconvert_exporter": "python",
   "pygments_lexer": "ipython3",
   "version": "3.9.13"
  }
 },
 "nbformat": 4,
 "nbformat_minor": 5
}
